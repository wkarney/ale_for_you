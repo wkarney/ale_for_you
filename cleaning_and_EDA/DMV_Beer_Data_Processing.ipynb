{
 "cells": [
  {
   "cell_type": "markdown",
   "metadata": {},
   "source": [
    "# Mid-Atlantic Beer Data"
   ]
  },
  {
   "cell_type": "markdown",
   "metadata": {},
   "source": [
    "## Data Gathering"
   ]
  },
  {
   "cell_type": "markdown",
   "metadata": {},
   "source": [
    "#### The Universe of Beer Reviews and Beer-Related Databases\n",
    "\n",
    "There is a bevy of beer review data on the Internet. Some of the main beer review website/applications include: \n",
    "* [BeerAdvocate](https://www.beeradvocate.com) \n",
    "* [RateBeer](https://www.ratebeer.com)\n",
    "* [Untappd](https://untappd.com/home)\n",
    "\n",
    "Additionally, there are more specialized Beer-focused publications that include reviews, typically with a more limited selection of esoteric or limited-release beers:\n",
    "* [The Beer Connoiseur](https://beerconnoisseur.com)\n",
    "* [Craft Beer and Brewing](https://beerandbrewing.com)\n",
    "* [The Full Pint](https://thefullpint.com/beer-reviews/)\n",
    "* [All About Beer](http://allaboutbeer.com)\n",
    "* [Draft Magazine](https://draftmag.com)\n",
    "\n",
    "General brewery databases:\n",
    "* [Open Brewery DB](https://www.openbrewerydb.org)\n",
    "* [BreweryDB](https://www.brewerydb.com/developers)\n",
    "\n",
    "Both [RateBeer](https://www.ratebeer.com/api-documentation.asp) and [Untappd](https://untappd.com/api/register#) have developer APIs, but both require explicit approval for API keys. Untappd in particular places restrictions on API access for pure research and analytics purposes. Given the turnaround time for API key access, I'm relying heavily on web scraping, which is not explicitly prohibited per each website's Robots Exclusion Protocol page. I have avoided scraping BeerAdvocate given reports of the owner's proclivity towards legal action against prior web scrapers.\n",
    "\n",
    "In addition to scraping beer review data, I've also incorporated data from the very cool beer databases [Open Brewery DB](https://www.openbrewerydb.org) and [BreweryDB](https://www.brewerydb.com)."
   ]
  },
  {
   "cell_type": "markdown",
   "metadata": {},
   "source": [
    "#### Beer Style Guidelines\n",
    "\n",
    "* [BJCP](https://www.bjcp.org/docs/2015_Guidelines_Beer.pdf)\n",
    "* [Brewers Association](https://www.brewersassociation.org/press-releases/brewers-association-releases-2019-beer-style-guidelines/)\n",
    "\n",
    "I also consulted the leading beer style guidelines. At first, I considered maybe this could be a source of features for the model, but given the diversity of beers even within the same style category, the style guides themselves were not helpful except for aiding in manual mapping of beers to broader categories."
   ]
  },
  {
   "cell_type": "markdown",
   "metadata": {},
   "source": [
    "## Data Processing and Exploration (Aggregate Beer Ratings)"
   ]
  },
  {
   "cell_type": "markdown",
   "metadata": {},
   "source": [
    "I created a web-scraping script which scrapes all the beers and its associated characteristics (name, style, ABV, aggregate RateBeer rating, date added to RateBeer) from each brewery in a given url associated with a specific region. For this analysis I'm restricting my scope to breweries within Delaware, Maryland, Virginia, Washington D.C., and West Virginia."
   ]
  },
  {
   "cell_type": "markdown",
   "metadata": {},
   "source": [
    "The web scraping script outputted separate csv files for each state composed of all beers from breweries in that state."
   ]
  },
  {
   "cell_type": "code",
   "execution_count": 1,
   "metadata": {},
   "outputs": [],
   "source": [
    "# Import pandas, numpy for data cleaning and viz\n",
    "import pandas as pd\n",
    "import numpy as np\n",
    "import matplotlib.pyplot as plt\n",
    "import pickle\n",
    "\n",
    "from scipy import sparse\n",
    "from sklearn.preprocessing import StandardScaler\n",
    "from sklearn.feature_extraction.text import CountVectorizer, TfidfVectorizer\n",
    "from sklearn.metrics.pairwise import cosine_similarity\n",
    "from sklearn.pipeline import Pipeline\n",
    "\n",
    "pd.options.display.max_columns = 5_000 # So I can see all the columns rather than just ..."
   ]
  },
  {
   "cell_type": "markdown",
   "metadata": {},
   "source": [
    "### Reading and Cleaning Beer Listing Data from RateBeer"
   ]
  },
  {
   "cell_type": "code",
   "execution_count": 2,
   "metadata": {},
   "outputs": [],
   "source": [
    "# Reading in and combining .CSVs of scraping\n",
    "dc = pd.read_csv('../data_gathering/scrape_output/brewlist_DC.csv')\n",
    "md = pd.read_csv('../data_gathering/scrape_output/brewlist_MD.csv')\n",
    "va = pd.read_csv('../data_gathering/scrape_output/brewlist_VA.csv')\n",
    "\n",
    "dmv_beers = pd.concat([dc, md, va], ignore_index=True, sort=False)"
   ]
  },
  {
   "cell_type": "code",
   "execution_count": 3,
   "metadata": {},
   "outputs": [
    {
     "data": {
      "text/html": [
       "<div>\n",
       "<style scoped>\n",
       "    .dataframe tbody tr th:only-of-type {\n",
       "        vertical-align: middle;\n",
       "    }\n",
       "\n",
       "    .dataframe tbody tr th {\n",
       "        vertical-align: top;\n",
       "    }\n",
       "\n",
       "    .dataframe thead th {\n",
       "        text-align: right;\n",
       "    }\n",
       "</style>\n",
       "<table border=\"1\" class=\"dataframe\">\n",
       "  <thead>\n",
       "    <tr style=\"text-align: right;\">\n",
       "      <th></th>\n",
       "      <th>abv</th>\n",
       "      <th>address</th>\n",
       "      <th>brewery</th>\n",
       "      <th>country</th>\n",
       "      <th>date_added</th>\n",
       "      <th>google_map_link</th>\n",
       "      <th>link</th>\n",
       "      <th>name</th>\n",
       "      <th>num_ratings</th>\n",
       "      <th>postal_code</th>\n",
       "      <th>rating</th>\n",
       "      <th>state</th>\n",
       "      <th>style</th>\n",
       "      <th>style_rating</th>\n",
       "      <th>town</th>\n",
       "    </tr>\n",
       "  </thead>\n",
       "  <tbody>\n",
       "    <tr>\n",
       "      <th>0</th>\n",
       "      <td>0.083</td>\n",
       "      <td>6400 Chillum Pl, NW</td>\n",
       "      <td>3 Stars Brewing Company</td>\n",
       "      <td>USA</td>\n",
       "      <td>6/3/2016</td>\n",
       "      <td>maps.google.com/maps?f=q&amp;hl=en&amp;geocode=&amp;q=3+St...</td>\n",
       "      <td>www.ratebeer.com/beer/3-stars-ultrafresh/423469/</td>\n",
       "      <td>3 Stars #ultrafresh</td>\n",
       "      <td>14</td>\n",
       "      <td>20011</td>\n",
       "      <td>3.47</td>\n",
       "      <td>Washington DC</td>\n",
       "      <td>IIPA - Imperial / Double IPA</td>\n",
       "      <td>41.0</td>\n",
       "      <td>Washington, DC</td>\n",
       "    </tr>\n",
       "    <tr>\n",
       "      <th>1</th>\n",
       "      <td>0.067</td>\n",
       "      <td>6400 Chillum Pl, NW</td>\n",
       "      <td>3 Stars Brewing Company</td>\n",
       "      <td>USA</td>\n",
       "      <td>10/6/2018</td>\n",
       "      <td>maps.google.com/maps?f=q&amp;hl=en&amp;geocode=&amp;q=3+St...</td>\n",
       "      <td>www.ratebeer.com/beer/3-stars-bout-that-life/6...</td>\n",
       "      <td>3 Stars 'Bout That Life</td>\n",
       "      <td>3</td>\n",
       "      <td>20011</td>\n",
       "      <td>3.18</td>\n",
       "      <td>Washington DC</td>\n",
       "      <td>Sour / Wild Beer</td>\n",
       "      <td>NaN</td>\n",
       "      <td>Washington, DC</td>\n",
       "    </tr>\n",
       "    <tr>\n",
       "      <th>2</th>\n",
       "      <td>0.055</td>\n",
       "      <td>6400 Chillum Pl, NW</td>\n",
       "      <td>3 Stars Brewing Company</td>\n",
       "      <td>USA</td>\n",
       "      <td>4/17/2017</td>\n",
       "      <td>maps.google.com/maps?f=q&amp;hl=en&amp;geocode=&amp;q=3+St...</td>\n",
       "      <td>www.ratebeer.com/beer/3-stars-aslin-flip-the-s...</td>\n",
       "      <td>3 Stars / Aslin Flip the Script</td>\n",
       "      <td>5</td>\n",
       "      <td>20011</td>\n",
       "      <td>3.20</td>\n",
       "      <td>Washington DC</td>\n",
       "      <td>Sour / Wild Beer</td>\n",
       "      <td>NaN</td>\n",
       "      <td>Washington, DC</td>\n",
       "    </tr>\n",
       "    <tr>\n",
       "      <th>3</th>\n",
       "      <td>0.072</td>\n",
       "      <td>6400 Chillum Pl, NW</td>\n",
       "      <td>3 Stars Brewing Company</td>\n",
       "      <td>USA</td>\n",
       "      <td>5/13/2018</td>\n",
       "      <td>maps.google.com/maps?f=q&amp;hl=en&amp;geocode=&amp;q=3+St...</td>\n",
       "      <td>www.ratebeer.com/beer/3-stars-captain-lawrence...</td>\n",
       "      <td>3 Stars / Captain Lawrence 77's and Bonnevilles</td>\n",
       "      <td>3</td>\n",
       "      <td>20011</td>\n",
       "      <td>3.21</td>\n",
       "      <td>Washington DC</td>\n",
       "      <td>IIPA - Imperial / Double IPA</td>\n",
       "      <td>NaN</td>\n",
       "      <td>Washington, DC</td>\n",
       "    </tr>\n",
       "    <tr>\n",
       "      <th>4</th>\n",
       "      <td>0.065</td>\n",
       "      <td>6400 Chillum Pl, NW</td>\n",
       "      <td>3 Stars Brewing Company</td>\n",
       "      <td>USA</td>\n",
       "      <td>9/18/2016</td>\n",
       "      <td>maps.google.com/maps?f=q&amp;hl=en&amp;geocode=&amp;q=3+St...</td>\n",
       "      <td>www.ratebeer.com/beer/3-stars-charm-city-two-h...</td>\n",
       "      <td>3 Stars / Charm City Two Headed Unicorn</td>\n",
       "      <td>9</td>\n",
       "      <td>20011</td>\n",
       "      <td>3.44</td>\n",
       "      <td>Washington DC</td>\n",
       "      <td>Sour / Wild Beer</td>\n",
       "      <td>41.0</td>\n",
       "      <td>Washington, DC</td>\n",
       "    </tr>\n",
       "  </tbody>\n",
       "</table>\n",
       "</div>"
      ],
      "text/plain": [
       "     abv              address                   brewery country date_added  \\\n",
       "0  0.083  6400 Chillum Pl, NW   3 Stars Brewing Company     USA   6/3/2016   \n",
       "1  0.067  6400 Chillum Pl, NW   3 Stars Brewing Company     USA  10/6/2018   \n",
       "2  0.055  6400 Chillum Pl, NW   3 Stars Brewing Company     USA  4/17/2017   \n",
       "3  0.072  6400 Chillum Pl, NW   3 Stars Brewing Company     USA  5/13/2018   \n",
       "4  0.065  6400 Chillum Pl, NW   3 Stars Brewing Company     USA  9/18/2016   \n",
       "\n",
       "                                     google_map_link  \\\n",
       "0  maps.google.com/maps?f=q&hl=en&geocode=&q=3+St...   \n",
       "1  maps.google.com/maps?f=q&hl=en&geocode=&q=3+St...   \n",
       "2  maps.google.com/maps?f=q&hl=en&geocode=&q=3+St...   \n",
       "3  maps.google.com/maps?f=q&hl=en&geocode=&q=3+St...   \n",
       "4  maps.google.com/maps?f=q&hl=en&geocode=&q=3+St...   \n",
       "\n",
       "                                                link  \\\n",
       "0   www.ratebeer.com/beer/3-stars-ultrafresh/423469/   \n",
       "1  www.ratebeer.com/beer/3-stars-bout-that-life/6...   \n",
       "2  www.ratebeer.com/beer/3-stars-aslin-flip-the-s...   \n",
       "3  www.ratebeer.com/beer/3-stars-captain-lawrence...   \n",
       "4  www.ratebeer.com/beer/3-stars-charm-city-two-h...   \n",
       "\n",
       "                                              name  num_ratings postal_code  \\\n",
       "0                              3 Stars #ultrafresh           14       20011   \n",
       "1                          3 Stars 'Bout That Life            3       20011   \n",
       "2                  3 Stars / Aslin Flip the Script            5       20011   \n",
       "3  3 Stars / Captain Lawrence 77's and Bonnevilles            3       20011   \n",
       "4          3 Stars / Charm City Two Headed Unicorn            9       20011   \n",
       "\n",
       "   rating          state                         style  style_rating  \\\n",
       "0    3.47  Washington DC  IIPA - Imperial / Double IPA          41.0   \n",
       "1    3.18  Washington DC              Sour / Wild Beer           NaN   \n",
       "2    3.20  Washington DC              Sour / Wild Beer           NaN   \n",
       "3    3.21  Washington DC  IIPA - Imperial / Double IPA           NaN   \n",
       "4    3.44  Washington DC              Sour / Wild Beer          41.0   \n",
       "\n",
       "             town  \n",
       "0  Washington, DC  \n",
       "1  Washington, DC  \n",
       "2  Washington, DC  \n",
       "3  Washington, DC  \n",
       "4  Washington, DC  "
      ]
     },
     "execution_count": 3,
     "metadata": {},
     "output_type": "execute_result"
    }
   ],
   "source": [
    "dmv_beers.head()"
   ]
  },
  {
   "cell_type": "code",
   "execution_count": 4,
   "metadata": {},
   "outputs": [
    {
     "name": "stdout",
     "output_type": "stream",
     "text": [
      "<class 'pandas.core.frame.DataFrame'>\n",
      "RangeIndex: 18294 entries, 0 to 18293\n",
      "Data columns (total 15 columns):\n",
      "abv                17109 non-null float64\n",
      "address            18073 non-null object\n",
      "brewery            18294 non-null object\n",
      "country            18294 non-null object\n",
      "date_added         18294 non-null object\n",
      "google_map_link    18294 non-null object\n",
      "link               18294 non-null object\n",
      "name               18294 non-null object\n",
      "num_ratings        18294 non-null int64\n",
      "postal_code        18240 non-null object\n",
      "rating             13494 non-null float64\n",
      "state              18294 non-null object\n",
      "style              18294 non-null object\n",
      "style_rating       2582 non-null float64\n",
      "town               18292 non-null object\n",
      "dtypes: float64(3), int64(1), object(11)\n",
      "memory usage: 2.1+ MB\n"
     ]
    }
   ],
   "source": [
    "dmv_beers.info()"
   ]
  },
  {
   "cell_type": "code",
   "execution_count": 5,
   "metadata": {},
   "outputs": [],
   "source": [
    "# Dropping sytle rating column and dropping remaining nulls (that is beers without ratings)\n",
    "dmv_beers.drop(columns=['style_rating'], inplace=True)\n",
    "dmv_beers.dropna(inplace=True)"
   ]
  },
  {
   "cell_type": "code",
   "execution_count": 6,
   "metadata": {},
   "outputs": [
    {
     "name": "stdout",
     "output_type": "stream",
     "text": [
      "<class 'pandas.core.frame.DataFrame'>\n",
      "Int64Index: 12601 entries, 0 to 18292\n",
      "Data columns (total 14 columns):\n",
      "abv                12601 non-null float64\n",
      "address            12601 non-null object\n",
      "brewery            12601 non-null object\n",
      "country            12601 non-null object\n",
      "date_added         12601 non-null object\n",
      "google_map_link    12601 non-null object\n",
      "link               12601 non-null object\n",
      "name               12601 non-null object\n",
      "num_ratings        12601 non-null int64\n",
      "postal_code        12601 non-null object\n",
      "rating             12601 non-null float64\n",
      "state              12601 non-null object\n",
      "style              12601 non-null object\n",
      "town               12601 non-null object\n",
      "dtypes: float64(2), int64(1), object(11)\n",
      "memory usage: 1.4+ MB\n"
     ]
    }
   ],
   "source": [
    "dmv_beers.info()"
   ]
  },
  {
   "cell_type": "markdown",
   "metadata": {},
   "source": [
    "### Data Cleaning"
   ]
  },
  {
   "cell_type": "code",
   "execution_count": 7,
   "metadata": {},
   "outputs": [],
   "source": [
    "def strip_col(df, col_list):\n",
    "    \"\"\"\n",
    "    Trim whitepace on specified columns of object dtype.\n",
    "    \n",
    "    Parameters\n",
    "    ----------\n",
    "    df : pandas dataframe\n",
    "    col_list : list of specified name of columns (str)\n",
    "\n",
    "    Returns\n",
    "    -------\n",
    "    revised pandas dataframe\n",
    "\n",
    "    \"\"\"\n",
    "    for col in col_list:\n",
    "        if df[col].dtype == 'O':\n",
    "            df[col] = df[col].map(lambda x: x.strip())\n",
    "        else:\n",
    "            print(\"The specified column is not an object (string) datatype.\")\n",
    "    return df"
   ]
  },
  {
   "cell_type": "code",
   "execution_count": 8,
   "metadata": {},
   "outputs": [],
   "source": [
    "# Some columns may have extra white space - let's clean it\n",
    "strip_col(dmv_beers, col_list=['brewery', 'name', 'style', 'address','town']);"
   ]
  },
  {
   "cell_type": "markdown",
   "metadata": {},
   "source": [
    "Thanks to [Jason Ong (jasonong) on Github](https://github.com/jasonong/List-of-US-States) for saving me some time from manually creating the state to abbreviation mapping."
   ]
  },
  {
   "cell_type": "code",
   "execution_count": 9,
   "metadata": {},
   "outputs": [],
   "source": [
    "stateabbrev_df = pd.read_csv('./state_abbreviations.csv')\n",
    "stateabbrev_dict = stateabbrev_df.set_index('State').to_dict()['Abbreviation']"
   ]
  },
  {
   "cell_type": "code",
   "execution_count": 10,
   "metadata": {},
   "outputs": [],
   "source": [
    "def replace_via_dict(df, col, abbrev_dict):\n",
    "    df[col].replace(abbrev_dict, inplace=True)\n",
    "    return df"
   ]
  },
  {
   "cell_type": "code",
   "execution_count": 11,
   "metadata": {},
   "outputs": [
    {
     "data": {
      "text/plain": [
       "Virginia         8002\n",
       "Maryland         3552\n",
       "Washington DC    1047\n",
       "Name: state, dtype: int64"
      ]
     },
     "execution_count": 11,
     "metadata": {},
     "output_type": "execute_result"
    }
   ],
   "source": [
    "# Ratebeer labels states oddly - DC needs to be corrected\n",
    "dmv_beers['state'].value_counts()"
   ]
  },
  {
   "cell_type": "code",
   "execution_count": 12,
   "metadata": {},
   "outputs": [],
   "source": [
    "dmv_beers['state'].replace({'Washington DC':'District of Columbia'}, inplace=True)"
   ]
  },
  {
   "cell_type": "code",
   "execution_count": 13,
   "metadata": {},
   "outputs": [],
   "source": [
    "# Reassign state column to abbreviations\n",
    "dmv_beers = replace_via_dict(dmv_beers, 'state', stateabbrev_dict)"
   ]
  },
  {
   "cell_type": "code",
   "execution_count": 14,
   "metadata": {},
   "outputs": [
    {
     "data": {
      "text/plain": [
       "USA    12601\n",
       "Name: country, dtype: int64"
      ]
     },
     "execution_count": 14,
     "metadata": {},
     "output_type": "execute_result"
    }
   ],
   "source": [
    "# All the items in country column should be 'USA'\n",
    "dmv_beers['country'].value_counts()"
   ]
  },
  {
   "cell_type": "code",
   "execution_count": 15,
   "metadata": {},
   "outputs": [
    {
     "data": {
      "text/plain": [
       "Washington        739\n",
       "Washington DC     160\n",
       "Washington, DC    148\n",
       "Name: town, dtype: int64"
      ]
     },
     "execution_count": 15,
     "metadata": {},
     "output_type": "execute_result"
    }
   ],
   "source": [
    "# There are a few variations on Washington DC\n",
    "dmv_beers[dmv_beers['town'].str.contains('Washington')]['town'].value_counts()"
   ]
  },
  {
   "cell_type": "code",
   "execution_count": 16,
   "metadata": {},
   "outputs": [
    {
     "data": {
      "text/plain": [
       "Washington    1047\n",
       "Name: town, dtype: int64"
      ]
     },
     "execution_count": 16,
     "metadata": {},
     "output_type": "execute_result"
    }
   ],
   "source": [
    "# Transforming all Washington DC variations to Washington\n",
    "dmv_beers['town'].replace({'Washington DC':'Washington','Washington, DC':'Washington'}, inplace=True)\n",
    "dmv_beers[dmv_beers['town'].str.contains('Washington')]['town'].value_counts()"
   ]
  },
  {
   "cell_type": "code",
   "execution_count": 17,
   "metadata": {},
   "outputs": [
    {
     "data": {
      "text/plain": [
       "VA    8002\n",
       "MD    3552\n",
       "DC    1047\n",
       "Name: state, dtype: int64"
      ]
     },
     "execution_count": 17,
     "metadata": {},
     "output_type": "execute_result"
    }
   ],
   "source": [
    "# Breakout of beer count\n",
    "dmv_beers['state'].value_counts()"
   ]
  },
  {
   "cell_type": "markdown",
   "metadata": {},
   "source": [
    "There are some geographical attributes of the breweries that may be helpful in filtering the recommendations but are not useful features in the recommender model itself. I'm going to create a new dictionary with that information to be utilized later and drop those columns from the beer list dataframe."
   ]
  },
  {
   "cell_type": "code",
   "execution_count": 18,
   "metadata": {},
   "outputs": [
    {
     "name": "stderr",
     "output_type": "stream",
     "text": [
      "/Users/willkarnasiewicz/anaconda3/envs/dsi/lib/python3.6/site-packages/ipykernel_launcher.py:1: UserWarning: DataFrame columns are not unique, some columns will be omitted.\n",
      "  \"\"\"Entry point for launching an IPython kernel.\n"
     ]
    }
   ],
   "source": [
    "dmv_beer_to_location = dmv_beers[['name','brewery','address','town','state','postal_code']].set_index('name').T.to_dict()"
   ]
  },
  {
   "cell_type": "code",
   "execution_count": 19,
   "metadata": {},
   "outputs": [
    {
     "name": "stdout",
     "output_type": "stream",
     "text": [
      "<class 'pandas.core.frame.DataFrame'>\n",
      "Int64Index: 12601 entries, 0 to 18292\n",
      "Data columns (total 6 columns):\n",
      "name           12601 non-null object\n",
      "abv            12601 non-null float64\n",
      "date_added     12601 non-null object\n",
      "num_ratings    12601 non-null int64\n",
      "rating         12601 non-null float64\n",
      "style          12601 non-null object\n",
      "dtypes: float64(2), int64(1), object(3)\n",
      "memory usage: 689.1+ KB\n"
     ]
    }
   ],
   "source": [
    "features = ['name','abv', 'date_added', 'num_ratings','rating','style']\n",
    "dmv_beer_data = dmv_beers[features]\n",
    "dmv_beer_data.info()"
   ]
  },
  {
   "cell_type": "code",
   "execution_count": 20,
   "metadata": {},
   "outputs": [
    {
     "data": {
      "text/html": [
       "<div>\n",
       "<style scoped>\n",
       "    .dataframe tbody tr th:only-of-type {\n",
       "        vertical-align: middle;\n",
       "    }\n",
       "\n",
       "    .dataframe tbody tr th {\n",
       "        vertical-align: top;\n",
       "    }\n",
       "\n",
       "    .dataframe thead th {\n",
       "        text-align: right;\n",
       "    }\n",
       "</style>\n",
       "<table border=\"1\" class=\"dataframe\">\n",
       "  <thead>\n",
       "    <tr style=\"text-align: right;\">\n",
       "      <th></th>\n",
       "      <th>name</th>\n",
       "      <th>abv</th>\n",
       "      <th>date_added</th>\n",
       "      <th>num_ratings</th>\n",
       "      <th>rating</th>\n",
       "      <th>style</th>\n",
       "    </tr>\n",
       "  </thead>\n",
       "  <tbody>\n",
       "    <tr>\n",
       "      <th>0</th>\n",
       "      <td>3 Stars #ultrafresh</td>\n",
       "      <td>0.083</td>\n",
       "      <td>6/3/2016</td>\n",
       "      <td>14</td>\n",
       "      <td>3.47</td>\n",
       "      <td>IIPA - Imperial / Double IPA</td>\n",
       "    </tr>\n",
       "    <tr>\n",
       "      <th>1</th>\n",
       "      <td>3 Stars 'Bout That Life</td>\n",
       "      <td>0.067</td>\n",
       "      <td>10/6/2018</td>\n",
       "      <td>3</td>\n",
       "      <td>3.18</td>\n",
       "      <td>Sour / Wild Beer</td>\n",
       "    </tr>\n",
       "    <tr>\n",
       "      <th>2</th>\n",
       "      <td>3 Stars / Aslin Flip the Script</td>\n",
       "      <td>0.055</td>\n",
       "      <td>4/17/2017</td>\n",
       "      <td>5</td>\n",
       "      <td>3.20</td>\n",
       "      <td>Sour / Wild Beer</td>\n",
       "    </tr>\n",
       "    <tr>\n",
       "      <th>3</th>\n",
       "      <td>3 Stars / Captain Lawrence 77's and Bonnevilles</td>\n",
       "      <td>0.072</td>\n",
       "      <td>5/13/2018</td>\n",
       "      <td>3</td>\n",
       "      <td>3.21</td>\n",
       "      <td>IIPA - Imperial / Double IPA</td>\n",
       "    </tr>\n",
       "    <tr>\n",
       "      <th>4</th>\n",
       "      <td>3 Stars / Charm City Two Headed Unicorn</td>\n",
       "      <td>0.065</td>\n",
       "      <td>9/18/2016</td>\n",
       "      <td>9</td>\n",
       "      <td>3.44</td>\n",
       "      <td>Sour / Wild Beer</td>\n",
       "    </tr>\n",
       "  </tbody>\n",
       "</table>\n",
       "</div>"
      ],
      "text/plain": [
       "                                              name    abv date_added  \\\n",
       "0                              3 Stars #ultrafresh  0.083   6/3/2016   \n",
       "1                          3 Stars 'Bout That Life  0.067  10/6/2018   \n",
       "2                  3 Stars / Aslin Flip the Script  0.055  4/17/2017   \n",
       "3  3 Stars / Captain Lawrence 77's and Bonnevilles  0.072  5/13/2018   \n",
       "4          3 Stars / Charm City Two Headed Unicorn  0.065  9/18/2016   \n",
       "\n",
       "   num_ratings  rating                         style  \n",
       "0           14    3.47  IIPA - Imperial / Double IPA  \n",
       "1            3    3.18              Sour / Wild Beer  \n",
       "2            5    3.20              Sour / Wild Beer  \n",
       "3            3    3.21  IIPA - Imperial / Double IPA  \n",
       "4            9    3.44              Sour / Wild Beer  "
      ]
     },
     "execution_count": 20,
     "metadata": {},
     "output_type": "execute_result"
    }
   ],
   "source": [
    "dmv_beer_data.head()"
   ]
  },
  {
   "cell_type": "code",
   "execution_count": 21,
   "metadata": {},
   "outputs": [
    {
     "name": "stderr",
     "output_type": "stream",
     "text": [
      "/Users/willkarnasiewicz/anaconda3/envs/dsi/lib/python3.6/site-packages/ipykernel_launcher.py:1: SettingWithCopyWarning: \n",
      "A value is trying to be set on a copy of a slice from a DataFrame.\n",
      "Try using .loc[row_indexer,col_indexer] = value instead\n",
      "\n",
      "See the caveats in the documentation: http://pandas.pydata.org/pandas-docs/stable/indexing.html#indexing-view-versus-copy\n",
      "  \"\"\"Entry point for launching an IPython kernel.\n"
     ]
    }
   ],
   "source": [
    "dmv_beer_data['year_added'] = dmv_beer_data['date_added'].map(lambda x: str(x)[-4:])"
   ]
  },
  {
   "cell_type": "code",
   "execution_count": 22,
   "metadata": {},
   "outputs": [
    {
     "data": {
      "text/html": [
       "<div>\n",
       "<style scoped>\n",
       "    .dataframe tbody tr th:only-of-type {\n",
       "        vertical-align: middle;\n",
       "    }\n",
       "\n",
       "    .dataframe tbody tr th {\n",
       "        vertical-align: top;\n",
       "    }\n",
       "\n",
       "    .dataframe thead th {\n",
       "        text-align: right;\n",
       "    }\n",
       "</style>\n",
       "<table border=\"1\" class=\"dataframe\">\n",
       "  <thead>\n",
       "    <tr style=\"text-align: right;\">\n",
       "      <th></th>\n",
       "      <th>name</th>\n",
       "      <th>abv</th>\n",
       "      <th>date_added</th>\n",
       "      <th>num_ratings</th>\n",
       "      <th>rating</th>\n",
       "      <th>style</th>\n",
       "      <th>year_added</th>\n",
       "    </tr>\n",
       "  </thead>\n",
       "  <tbody>\n",
       "    <tr>\n",
       "      <th>0</th>\n",
       "      <td>3 Stars #ultrafresh</td>\n",
       "      <td>0.083</td>\n",
       "      <td>6/3/2016</td>\n",
       "      <td>14</td>\n",
       "      <td>3.47</td>\n",
       "      <td>IIPA - Imperial / Double IPA</td>\n",
       "      <td>2016</td>\n",
       "    </tr>\n",
       "    <tr>\n",
       "      <th>1</th>\n",
       "      <td>3 Stars 'Bout That Life</td>\n",
       "      <td>0.067</td>\n",
       "      <td>10/6/2018</td>\n",
       "      <td>3</td>\n",
       "      <td>3.18</td>\n",
       "      <td>Sour / Wild Beer</td>\n",
       "      <td>2018</td>\n",
       "    </tr>\n",
       "    <tr>\n",
       "      <th>2</th>\n",
       "      <td>3 Stars / Aslin Flip the Script</td>\n",
       "      <td>0.055</td>\n",
       "      <td>4/17/2017</td>\n",
       "      <td>5</td>\n",
       "      <td>3.20</td>\n",
       "      <td>Sour / Wild Beer</td>\n",
       "      <td>2017</td>\n",
       "    </tr>\n",
       "    <tr>\n",
       "      <th>3</th>\n",
       "      <td>3 Stars / Captain Lawrence 77's and Bonnevilles</td>\n",
       "      <td>0.072</td>\n",
       "      <td>5/13/2018</td>\n",
       "      <td>3</td>\n",
       "      <td>3.21</td>\n",
       "      <td>IIPA - Imperial / Double IPA</td>\n",
       "      <td>2018</td>\n",
       "    </tr>\n",
       "    <tr>\n",
       "      <th>4</th>\n",
       "      <td>3 Stars / Charm City Two Headed Unicorn</td>\n",
       "      <td>0.065</td>\n",
       "      <td>9/18/2016</td>\n",
       "      <td>9</td>\n",
       "      <td>3.44</td>\n",
       "      <td>Sour / Wild Beer</td>\n",
       "      <td>2016</td>\n",
       "    </tr>\n",
       "  </tbody>\n",
       "</table>\n",
       "</div>"
      ],
      "text/plain": [
       "                                              name    abv date_added  \\\n",
       "0                              3 Stars #ultrafresh  0.083   6/3/2016   \n",
       "1                          3 Stars 'Bout That Life  0.067  10/6/2018   \n",
       "2                  3 Stars / Aslin Flip the Script  0.055  4/17/2017   \n",
       "3  3 Stars / Captain Lawrence 77's and Bonnevilles  0.072  5/13/2018   \n",
       "4          3 Stars / Charm City Two Headed Unicorn  0.065  9/18/2016   \n",
       "\n",
       "   num_ratings  rating                         style year_added  \n",
       "0           14    3.47  IIPA - Imperial / Double IPA       2016  \n",
       "1            3    3.18              Sour / Wild Beer       2018  \n",
       "2            5    3.20              Sour / Wild Beer       2017  \n",
       "3            3    3.21  IIPA - Imperial / Double IPA       2018  \n",
       "4            9    3.44              Sour / Wild Beer       2016  "
      ]
     },
     "execution_count": 22,
     "metadata": {},
     "output_type": "execute_result"
    }
   ],
   "source": [
    "dmv_beer_data.head()"
   ]
  },
  {
   "cell_type": "code",
   "execution_count": 23,
   "metadata": {},
   "outputs": [
    {
     "name": "stderr",
     "output_type": "stream",
     "text": [
      "/Users/willkarnasiewicz/anaconda3/envs/dsi/lib/python3.6/site-packages/pandas/core/frame.py:3940: SettingWithCopyWarning: \n",
      "A value is trying to be set on a copy of a slice from a DataFrame\n",
      "\n",
      "See the caveats in the documentation: http://pandas.pydata.org/pandas-docs/stable/indexing.html#indexing-view-versus-copy\n",
      "  errors=errors)\n"
     ]
    }
   ],
   "source": [
    "dmv_beer_data.drop(columns=['date_added'], inplace=True)"
   ]
  },
  {
   "cell_type": "code",
   "execution_count": 24,
   "metadata": {},
   "outputs": [
    {
     "data": {
      "text/html": [
       "<div>\n",
       "<style scoped>\n",
       "    .dataframe tbody tr th:only-of-type {\n",
       "        vertical-align: middle;\n",
       "    }\n",
       "\n",
       "    .dataframe tbody tr th {\n",
       "        vertical-align: top;\n",
       "    }\n",
       "\n",
       "    .dataframe thead th {\n",
       "        text-align: right;\n",
       "    }\n",
       "</style>\n",
       "<table border=\"1\" class=\"dataframe\">\n",
       "  <thead>\n",
       "    <tr style=\"text-align: right;\">\n",
       "      <th></th>\n",
       "      <th>name</th>\n",
       "      <th>abv</th>\n",
       "      <th>num_ratings</th>\n",
       "      <th>rating</th>\n",
       "      <th>style</th>\n",
       "      <th>year_added</th>\n",
       "    </tr>\n",
       "  </thead>\n",
       "  <tbody>\n",
       "    <tr>\n",
       "      <th>0</th>\n",
       "      <td>3 Stars #ultrafresh</td>\n",
       "      <td>0.083</td>\n",
       "      <td>14</td>\n",
       "      <td>3.47</td>\n",
       "      <td>IIPA - Imperial / Double IPA</td>\n",
       "      <td>2016</td>\n",
       "    </tr>\n",
       "    <tr>\n",
       "      <th>1</th>\n",
       "      <td>3 Stars 'Bout That Life</td>\n",
       "      <td>0.067</td>\n",
       "      <td>3</td>\n",
       "      <td>3.18</td>\n",
       "      <td>Sour / Wild Beer</td>\n",
       "      <td>2018</td>\n",
       "    </tr>\n",
       "    <tr>\n",
       "      <th>2</th>\n",
       "      <td>3 Stars / Aslin Flip the Script</td>\n",
       "      <td>0.055</td>\n",
       "      <td>5</td>\n",
       "      <td>3.20</td>\n",
       "      <td>Sour / Wild Beer</td>\n",
       "      <td>2017</td>\n",
       "    </tr>\n",
       "    <tr>\n",
       "      <th>3</th>\n",
       "      <td>3 Stars / Captain Lawrence 77's and Bonnevilles</td>\n",
       "      <td>0.072</td>\n",
       "      <td>3</td>\n",
       "      <td>3.21</td>\n",
       "      <td>IIPA - Imperial / Double IPA</td>\n",
       "      <td>2018</td>\n",
       "    </tr>\n",
       "    <tr>\n",
       "      <th>4</th>\n",
       "      <td>3 Stars / Charm City Two Headed Unicorn</td>\n",
       "      <td>0.065</td>\n",
       "      <td>9</td>\n",
       "      <td>3.44</td>\n",
       "      <td>Sour / Wild Beer</td>\n",
       "      <td>2016</td>\n",
       "    </tr>\n",
       "  </tbody>\n",
       "</table>\n",
       "</div>"
      ],
      "text/plain": [
       "                                              name    abv  num_ratings  \\\n",
       "0                              3 Stars #ultrafresh  0.083           14   \n",
       "1                          3 Stars 'Bout That Life  0.067            3   \n",
       "2                  3 Stars / Aslin Flip the Script  0.055            5   \n",
       "3  3 Stars / Captain Lawrence 77's and Bonnevilles  0.072            3   \n",
       "4          3 Stars / Charm City Two Headed Unicorn  0.065            9   \n",
       "\n",
       "   rating                         style year_added  \n",
       "0    3.47  IIPA - Imperial / Double IPA       2016  \n",
       "1    3.18              Sour / Wild Beer       2018  \n",
       "2    3.20              Sour / Wild Beer       2017  \n",
       "3    3.21  IIPA - Imperial / Double IPA       2018  \n",
       "4    3.44              Sour / Wild Beer       2016  "
      ]
     },
     "execution_count": 24,
     "metadata": {},
     "output_type": "execute_result"
    }
   ],
   "source": [
    "dmv_beer_data.head()"
   ]
  },
  {
   "cell_type": "code",
   "execution_count": 25,
   "metadata": {},
   "outputs": [],
   "source": [
    "dmv_beer_data_dummied = pd.get_dummies(dmv_beer_data, columns=['style','year_added'])"
   ]
  },
  {
   "cell_type": "code",
   "execution_count": 26,
   "metadata": {},
   "outputs": [],
   "source": [
    "dmv_beer_data_dummied.set_index('name', inplace=True)"
   ]
  },
  {
   "cell_type": "code",
   "execution_count": 27,
   "metadata": {},
   "outputs": [
    {
     "data": {
      "text/plain": [
       "(12601, 134)"
      ]
     },
     "execution_count": 27,
     "metadata": {},
     "output_type": "execute_result"
    }
   ],
   "source": [
    "dmv_beer_data_dummied.shape"
   ]
  },
  {
   "cell_type": "markdown",
   "metadata": {},
   "source": [
    "### Exporting Data for Use in Recommender System and Further Analysis"
   ]
  },
  {
   "cell_type": "markdown",
   "metadata": {},
   "source": [
    "#### List of Beers in System:"
   ]
  },
  {
   "cell_type": "code",
   "execution_count": 28,
   "metadata": {},
   "outputs": [],
   "source": [
    "beer_list = [_ for _ in dmv_beer_data_dummied.index]\n",
    "\n",
    "with open('../data/beerlist.pickle', 'wb') as f:\n",
    "    # Pickle the 'data' dictionary using the highest protocol available.\n",
    "    pickle.dump(beer_list, f, pickle.HIGHEST_PROTOCOL)"
   ]
  },
  {
   "cell_type": "markdown",
   "metadata": {},
   "source": [
    "#### Sparse Matrix of Beer Details for Basic Content Recommendation"
   ]
  },
  {
   "cell_type": "code",
   "execution_count": 29,
   "metadata": {},
   "outputs": [],
   "source": [
    "dmv_content_dummy_sparse = sparse.csr_matrix(dmv_beer_data_dummied)"
   ]
  },
  {
   "cell_type": "code",
   "execution_count": 30,
   "metadata": {},
   "outputs": [],
   "source": [
    "sparse.save_npz('../data/dmv_beer_content_sparse',dmv_content_dummy_sparse)"
   ]
  },
  {
   "cell_type": "markdown",
   "metadata": {},
   "source": [
    "#### DMV Beer dataframe"
   ]
  },
  {
   "cell_type": "code",
   "execution_count": 31,
   "metadata": {},
   "outputs": [],
   "source": [
    "dmv_beers.to_csv('../data/dmv_beer_full_database.csv',index=False)"
   ]
  },
  {
   "cell_type": "markdown",
   "metadata": {},
   "source": [
    "#### DC Beer to Location dictionary"
   ]
  },
  {
   "cell_type": "code",
   "execution_count": 32,
   "metadata": {},
   "outputs": [],
   "source": [
    "with open('../data/beer_to_location.pickle', 'wb') as f:\n",
    "    # Pickle the 'data' dictionary using the highest protocol available.\n",
    "    pickle.dump(dmv_beer_to_location, f, pickle.HIGHEST_PROTOCOL)"
   ]
  },
  {
   "cell_type": "markdown",
   "metadata": {},
   "source": [
    "#### DMV Beer Link dataframe"
   ]
  },
  {
   "cell_type": "code",
   "execution_count": 33,
   "metadata": {},
   "outputs": [],
   "source": [
    "dmv_beers[['name','link']].to_csv('../data/dmv_beerlinks.csv')"
   ]
  },
  {
   "cell_type": "code",
   "execution_count": null,
   "metadata": {},
   "outputs": [],
   "source": []
  }
 ],
 "metadata": {
  "kernelspec": {
   "display_name": "Python 3",
   "language": "python",
   "name": "python3"
  },
  "language_info": {
   "codemirror_mode": {
    "name": "ipython",
    "version": 3
   },
   "file_extension": ".py",
   "mimetype": "text/x-python",
   "name": "python",
   "nbconvert_exporter": "python",
   "pygments_lexer": "ipython3",
   "version": "3.6.8"
  }
 },
 "nbformat": 4,
 "nbformat_minor": 2
}

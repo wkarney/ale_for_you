{
 "cells": [
  {
   "cell_type": "markdown",
   "metadata": {},
   "source": [
    "## Ale Classification - Exploration"
   ]
  },
  {
   "cell_type": "code",
   "execution_count": 1,
   "metadata": {},
   "outputs": [],
   "source": [
    "# Standard DS imports\n",
    "import pandas as pd\n",
    "import numpy as np\n",
    "\n",
    "from sklearn.feature_extraction.text import CountVectorizer, TfidfVectorizer\n",
    "\n",
    "# Modeling\n",
    "from sklearn.model_selection import cross_val_score, GridSearchCV, train_test_split\n",
    "from sklearn.metrics import confusion_matrix\n",
    "from sklearn.pipeline import Pipeline\n",
    "from sklearn.naive_bayes import MultinomialNB\n",
    "from sklearn.linear_model import LogisticRegression\n",
    "from sklearn.ensemble import VotingClassifier, AdaBoostClassifier, GradientBoostingClassifier, RandomForestClassifier\n",
    "\n",
    "# Display more dataframe rows if necessary\n",
    "pd.options.display.max_rows = 500\n",
    "pd.options.display.max_columns = 5_000\n",
    "\n",
    "# Set random_seed\n",
    "np.random.seed(14)"
   ]
  },
  {
   "cell_type": "code",
   "execution_count": 2,
   "metadata": {},
   "outputs": [
    {
     "name": "stderr",
     "output_type": "stream",
     "text": [
      "/Users/willkarnasiewicz/anaconda3/envs/dsi/lib/python3.6/site-packages/IPython/core/interactiveshell.py:3049: DtypeWarning: Columns (13) have mixed types. Specify dtype option on import or set low_memory=False.\n",
      "  interactivity=interactivity, compiler=compiler, result=result)\n"
     ]
    }
   ],
   "source": [
    "beer_data = pd.read_csv('./data/dmv_full_beer_data.csv')"
   ]
  },
  {
   "cell_type": "code",
   "execution_count": 3,
   "metadata": {},
   "outputs": [
    {
     "data": {
      "text/html": [
       "<div>\n",
       "<style scoped>\n",
       "    .dataframe tbody tr th:only-of-type {\n",
       "        vertical-align: middle;\n",
       "    }\n",
       "\n",
       "    .dataframe tbody tr th {\n",
       "        vertical-align: top;\n",
       "    }\n",
       "\n",
       "    .dataframe thead th {\n",
       "        text-align: right;\n",
       "    }\n",
       "</style>\n",
       "<table border=\"1\" class=\"dataframe\">\n",
       "  <thead>\n",
       "    <tr style=\"text-align: right;\">\n",
       "      <th></th>\n",
       "      <th>beer</th>\n",
       "      <th>user</th>\n",
       "      <th>date</th>\n",
       "      <th>rating</th>\n",
       "      <th>review_text</th>\n",
       "      <th>abv</th>\n",
       "      <th>address</th>\n",
       "      <th>brewery</th>\n",
       "      <th>country</th>\n",
       "      <th>date_added</th>\n",
       "      <th>google_map_link</th>\n",
       "      <th>link</th>\n",
       "      <th>num_ratings</th>\n",
       "      <th>postal_code</th>\n",
       "      <th>agg_rating</th>\n",
       "      <th>state</th>\n",
       "      <th>style</th>\n",
       "      <th>town</th>\n",
       "      <th>abv_range</th>\n",
       "      <th>category</th>\n",
       "      <th>year_added</th>\n",
       "      <th>ale</th>\n",
       "      <th>text_stemmed</th>\n",
       "      <th>text_lemmatized</th>\n",
       "    </tr>\n",
       "  </thead>\n",
       "  <tbody>\n",
       "    <tr>\n",
       "      <th>0</th>\n",
       "      <td>3 Stars #ultrafresh</td>\n",
       "      <td>345552</td>\n",
       "      <td>2019-04-11</td>\n",
       "      <td>4.2</td>\n",
       "      <td>can from whole foods market fair lakes in fair...</td>\n",
       "      <td>0.083</td>\n",
       "      <td>6400 Chillum Pl, NW</td>\n",
       "      <td>3 Stars Brewing Company</td>\n",
       "      <td>USA</td>\n",
       "      <td>6/3/2016</td>\n",
       "      <td>maps.google.com/maps?f=q&amp;hl=en&amp;geocode=&amp;q=3+St...</td>\n",
       "      <td>www.ratebeer.com/beer/3-stars-ultrafresh/423469/</td>\n",
       "      <td>14</td>\n",
       "      <td>20011</td>\n",
       "      <td>3.47</td>\n",
       "      <td>DC</td>\n",
       "      <td>IIPA - Imperial / Double IPA</td>\n",
       "      <td>Washington</td>\n",
       "      <td>8% and more</td>\n",
       "      <td>IPA</td>\n",
       "      <td>2016</td>\n",
       "      <td>1</td>\n",
       "      <td>can from whole food market fair lake in fairfa...</td>\n",
       "      <td>can from whole food market fair lake in fairfa...</td>\n",
       "    </tr>\n",
       "    <tr>\n",
       "      <th>1</th>\n",
       "      <td>3 Stars #ultrafresh</td>\n",
       "      <td>44939</td>\n",
       "      <td>2019-01-25</td>\n",
       "      <td>3.7</td>\n",
       "      <td>canned clouded gold pour plenty of citrus slig...</td>\n",
       "      <td>0.083</td>\n",
       "      <td>6400 Chillum Pl, NW</td>\n",
       "      <td>3 Stars Brewing Company</td>\n",
       "      <td>USA</td>\n",
       "      <td>6/3/2016</td>\n",
       "      <td>maps.google.com/maps?f=q&amp;hl=en&amp;geocode=&amp;q=3+St...</td>\n",
       "      <td>www.ratebeer.com/beer/3-stars-ultrafresh/423469/</td>\n",
       "      <td>14</td>\n",
       "      <td>20011</td>\n",
       "      <td>3.47</td>\n",
       "      <td>DC</td>\n",
       "      <td>IIPA - Imperial / Double IPA</td>\n",
       "      <td>Washington</td>\n",
       "      <td>8% and more</td>\n",
       "      <td>IPA</td>\n",
       "      <td>2016</td>\n",
       "      <td>1</td>\n",
       "      <td>can cloud gold pour plenti of citru slightli b...</td>\n",
       "      <td>canned clouded gold pour plenty of citrus slig...</td>\n",
       "    </tr>\n",
       "    <tr>\n",
       "      <th>2</th>\n",
       "      <td>3 Stars #ultrafresh</td>\n",
       "      <td>87939</td>\n",
       "      <td>2018-09-20</td>\n",
       "      <td>2.9</td>\n",
       "      <td>draft at beer culture murky golden with a whit...</td>\n",
       "      <td>0.083</td>\n",
       "      <td>6400 Chillum Pl, NW</td>\n",
       "      <td>3 Stars Brewing Company</td>\n",
       "      <td>USA</td>\n",
       "      <td>6/3/2016</td>\n",
       "      <td>maps.google.com/maps?f=q&amp;hl=en&amp;geocode=&amp;q=3+St...</td>\n",
       "      <td>www.ratebeer.com/beer/3-stars-ultrafresh/423469/</td>\n",
       "      <td>14</td>\n",
       "      <td>20011</td>\n",
       "      <td>3.47</td>\n",
       "      <td>DC</td>\n",
       "      <td>IIPA - Imperial / Double IPA</td>\n",
       "      <td>Washington</td>\n",
       "      <td>8% and more</td>\n",
       "      <td>IPA</td>\n",
       "      <td>2016</td>\n",
       "      <td>1</td>\n",
       "      <td>draft at beer cultur murki golden with a white...</td>\n",
       "      <td>draft at beer culture murky golden with a whit...</td>\n",
       "    </tr>\n",
       "  </tbody>\n",
       "</table>\n",
       "</div>"
      ],
      "text/plain": [
       "                  beer    user        date  rating  \\\n",
       "0  3 Stars #ultrafresh  345552  2019-04-11     4.2   \n",
       "1  3 Stars #ultrafresh   44939  2019-01-25     3.7   \n",
       "2  3 Stars #ultrafresh   87939  2018-09-20     2.9   \n",
       "\n",
       "                                         review_text    abv  \\\n",
       "0  can from whole foods market fair lakes in fair...  0.083   \n",
       "1  canned clouded gold pour plenty of citrus slig...  0.083   \n",
       "2  draft at beer culture murky golden with a whit...  0.083   \n",
       "\n",
       "               address                  brewery country date_added  \\\n",
       "0  6400 Chillum Pl, NW  3 Stars Brewing Company     USA   6/3/2016   \n",
       "1  6400 Chillum Pl, NW  3 Stars Brewing Company     USA   6/3/2016   \n",
       "2  6400 Chillum Pl, NW  3 Stars Brewing Company     USA   6/3/2016   \n",
       "\n",
       "                                     google_map_link  \\\n",
       "0  maps.google.com/maps?f=q&hl=en&geocode=&q=3+St...   \n",
       "1  maps.google.com/maps?f=q&hl=en&geocode=&q=3+St...   \n",
       "2  maps.google.com/maps?f=q&hl=en&geocode=&q=3+St...   \n",
       "\n",
       "                                               link  num_ratings postal_code  \\\n",
       "0  www.ratebeer.com/beer/3-stars-ultrafresh/423469/           14       20011   \n",
       "1  www.ratebeer.com/beer/3-stars-ultrafresh/423469/           14       20011   \n",
       "2  www.ratebeer.com/beer/3-stars-ultrafresh/423469/           14       20011   \n",
       "\n",
       "   agg_rating state                         style        town    abv_range  \\\n",
       "0        3.47    DC  IIPA - Imperial / Double IPA  Washington  8% and more   \n",
       "1        3.47    DC  IIPA - Imperial / Double IPA  Washington  8% and more   \n",
       "2        3.47    DC  IIPA - Imperial / Double IPA  Washington  8% and more   \n",
       "\n",
       "  category  year_added  ale  \\\n",
       "0      IPA        2016    1   \n",
       "1      IPA        2016    1   \n",
       "2      IPA        2016    1   \n",
       "\n",
       "                                        text_stemmed  \\\n",
       "0  can from whole food market fair lake in fairfa...   \n",
       "1  can cloud gold pour plenti of citru slightli b...   \n",
       "2  draft at beer cultur murki golden with a white...   \n",
       "\n",
       "                                     text_lemmatized  \n",
       "0  can from whole food market fair lake in fairfa...  \n",
       "1  canned clouded gold pour plenty of citrus slig...  \n",
       "2  draft at beer culture murky golden with a whit...  "
      ]
     },
     "execution_count": 3,
     "metadata": {},
     "output_type": "execute_result"
    }
   ],
   "source": [
    "beer_data.head(3)"
   ]
  },
  {
   "cell_type": "code",
   "execution_count": 4,
   "metadata": {},
   "outputs": [],
   "source": [
    "X = beer_data['review_text']\n",
    "y = beer_data['ale']"
   ]
  },
  {
   "cell_type": "code",
   "execution_count": 5,
   "metadata": {},
   "outputs": [
    {
     "data": {
      "text/plain": [
       "1    0.561588\n",
       "0    0.438412\n",
       "Name: ale, dtype: float64"
      ]
     },
     "execution_count": 5,
     "metadata": {},
     "output_type": "execute_result"
    }
   ],
   "source": [
    "y.value_counts(normalize=True)"
   ]
  },
  {
   "cell_type": "code",
   "execution_count": 6,
   "metadata": {},
   "outputs": [],
   "source": [
    "# train/test split\n",
    "X_train, X_test, y_train, y_test = train_test_split(X, y, stratify=y)"
   ]
  },
  {
   "cell_type": "code",
   "execution_count": 7,
   "metadata": {},
   "outputs": [],
   "source": [
    "# Instiating Multinomial Naive Bayes Model\n",
    "nb = MultinomialNB()\n",
    "\n",
    "# Setting up pipeline with TFIDF and Naive Bayes\n",
    "pipe_naive_tf = Pipeline([\n",
    "    ('tfidf', TfidfVectorizer()),\n",
    "    ('nb', MultinomialNB())\n",
    "])"
   ]
  },
  {
   "cell_type": "code",
   "execution_count": 8,
   "metadata": {},
   "outputs": [],
   "source": [
    "# Grid search parameters\n",
    "params_nb = {\n",
    "    'tfidf__max_features': [200_000],\n",
    "    'tfidf__ngram_range': [(1,2)],\n",
    "    'tfidf__stop_words': ['english', None],\n",
    "    'nb__alpha': [.1, .25, .5]\n",
    "}"
   ]
  },
  {
   "cell_type": "code",
   "execution_count": 9,
   "metadata": {},
   "outputs": [
    {
     "name": "stdout",
     "output_type": "stream",
     "text": [
      "Fitting 3 folds for each of 6 candidates, totalling 18 fits\n"
     ]
    },
    {
     "name": "stderr",
     "output_type": "stream",
     "text": [
      "[Parallel(n_jobs=1)]: Using backend SequentialBackend with 1 concurrent workers.\n",
      "[Parallel(n_jobs=1)]: Done  18 out of  18 | elapsed:  3.1min finished\n"
     ]
    },
    {
     "data": {
      "text/plain": [
       "GridSearchCV(cv=3, error_score='raise-deprecating',\n",
       "       estimator=Pipeline(memory=None,\n",
       "     steps=[('tfidf', TfidfVectorizer(analyzer='word', binary=False, decode_error='strict',\n",
       "        dtype=<class 'numpy.float64'>, encoding='utf-8', input='content',\n",
       "        lowercase=True, max_df=1.0, max_features=None, min_df=1,\n",
       "        ngram_range=(1, 1), norm='l2', preprocessor=None, smooth_idf=True,...True,\n",
       "        vocabulary=None)), ('nb', MultinomialNB(alpha=1.0, class_prior=None, fit_prior=True))]),\n",
       "       fit_params=None, iid='warn', n_jobs=None,\n",
       "       param_grid={'tfidf__max_features': [200000], 'tfidf__ngram_range': [(1, 2)], 'tfidf__stop_words': ['english', None], 'nb__alpha': [0.1, 0.25, 0.5]},\n",
       "       pre_dispatch='2*n_jobs', refit=True, return_train_score='warn',\n",
       "       scoring=None, verbose=1)"
      ]
     },
     "execution_count": 9,
     "metadata": {},
     "output_type": "execute_result"
    }
   ],
   "source": [
    "# Instantiate and fit GridSearch on pipeline with TFIDF and Naive Bayes\n",
    "grid_nb = GridSearchCV(pipe_naive_tf, params_nb, cv=3, verbose=1)\n",
    "grid_nb.fit(X_train, y_train)"
   ]
  },
  {
   "cell_type": "code",
   "execution_count": 10,
   "metadata": {},
   "outputs": [
    {
     "name": "stdout",
     "output_type": "stream",
     "text": [
      "The best parameters are: {'nb__alpha': 0.1, 'tfidf__max_features': 200000, 'tfidf__ngram_range': (1, 2), 'tfidf__stop_words': 'english'}\n",
      "The best cross-val score is: 0.7970\n"
     ]
    }
   ],
   "source": [
    "print(f\"The best parameters are: {grid_nb.best_params_}\")\n",
    "print(f\"The best cross-val score is: {grid_nb.best_score_:.4f}\")"
   ]
  },
  {
   "cell_type": "code",
   "execution_count": 11,
   "metadata": {},
   "outputs": [
    {
     "name": "stdout",
     "output_type": "stream",
     "text": [
      "The training score for the best parameters is: 0.9048\n",
      "The test score for best parameters is: 0.7997\n"
     ]
    }
   ],
   "source": [
    "print(f\"The training score for the best parameters is: {grid_nb.score(X_train, y_train):.4f}\")\n",
    "print(f\"The test score for best parameters is: {grid_nb.score(X_test, y_test):.4f}\")"
   ]
  },
  {
   "cell_type": "markdown",
   "metadata": {},
   "source": [
    "Naive Bayes did decently well, handily beating the baseline but suffers from overfitting."
   ]
  },
  {
   "cell_type": "code",
   "execution_count": 12,
   "metadata": {},
   "outputs": [],
   "source": [
    "# Instiating Random Forest Model\n",
    "rf = RandomForestClassifier()\n",
    "\n",
    "# Setting up pipeline with TFIDF and Random Forest\n",
    "pipe_rf = Pipeline([\n",
    "    ('tfidf', TfidfVectorizer()),\n",
    "    ('rf', RandomForestClassifier())\n",
    "])"
   ]
  },
  {
   "cell_type": "code",
   "execution_count": 13,
   "metadata": {},
   "outputs": [],
   "source": [
    "# Grid search parameters\n",
    "params_rf = {\n",
    "    'tfidf__max_features': [20_000, 50_000],\n",
    "    'tfidf__ngram_range': [(1,2)],\n",
    "    'tfidf__stop_words': ['english'],\n",
    "    'rf__max_depth': [5, 10, 20],\n",
    "    'rf__n_estimators': [10, 50]\n",
    "}"
   ]
  },
  {
   "cell_type": "code",
   "execution_count": 14,
   "metadata": {},
   "outputs": [
    {
     "name": "stdout",
     "output_type": "stream",
     "text": [
      "Fitting 3 folds for each of 12 candidates, totalling 36 fits\n"
     ]
    },
    {
     "name": "stderr",
     "output_type": "stream",
     "text": [
      "[Parallel(n_jobs=1)]: Using backend SequentialBackend with 1 concurrent workers.\n",
      "[Parallel(n_jobs=1)]: Done  36 out of  36 | elapsed:  6.2min finished\n"
     ]
    },
    {
     "data": {
      "text/plain": [
       "GridSearchCV(cv=3, error_score='raise-deprecating',\n",
       "       estimator=Pipeline(memory=None,\n",
       "     steps=[('tfidf', TfidfVectorizer(analyzer='word', binary=False, decode_error='strict',\n",
       "        dtype=<class 'numpy.float64'>, encoding='utf-8', input='content',\n",
       "        lowercase=True, max_df=1.0, max_features=None, min_df=1,\n",
       "        ngram_range=(1, 1), norm='l2', preprocessor=None, smooth_idf=True,...obs=None,\n",
       "            oob_score=False, random_state=None, verbose=0,\n",
       "            warm_start=False))]),\n",
       "       fit_params=None, iid='warn', n_jobs=None,\n",
       "       param_grid={'tfidf__max_features': [20000, 50000], 'tfidf__ngram_range': [(1, 2)], 'tfidf__stop_words': ['english'], 'rf__max_depth': [5, 10, 20], 'rf__n_estimators': [10, 50]},\n",
       "       pre_dispatch='2*n_jobs', refit=True, return_train_score='warn',\n",
       "       scoring=None, verbose=1)"
      ]
     },
     "execution_count": 14,
     "metadata": {},
     "output_type": "execute_result"
    }
   ],
   "source": [
    "# Instantiate and fit GridSearch on pipeline with TFIDF and Naive Bayes\n",
    "grid_rf = GridSearchCV(pipe_rf, params_rf, cv=3, verbose=1)\n",
    "grid_rf.fit(X_train, y_train)"
   ]
  },
  {
   "cell_type": "code",
   "execution_count": 15,
   "metadata": {},
   "outputs": [
    {
     "name": "stdout",
     "output_type": "stream",
     "text": [
      "The best parameters are: {'rf__max_depth': 20, 'rf__n_estimators': 50, 'tfidf__max_features': 20000, 'tfidf__ngram_range': (1, 2), 'tfidf__stop_words': 'english'}\n",
      "The best cross-val score is: 0.7460\n"
     ]
    }
   ],
   "source": [
    "print(f\"The best parameters are: {grid_rf.best_params_}\")\n",
    "print(f\"The best cross-val score is: {grid_rf.best_score_:.4f}\")"
   ]
  },
  {
   "cell_type": "code",
   "execution_count": 16,
   "metadata": {},
   "outputs": [
    {
     "name": "stdout",
     "output_type": "stream",
     "text": [
      "The training score for the best parameters is: 0.7573\n",
      "The test score for best parameters is: 0.7409\n"
     ]
    }
   ],
   "source": [
    "print(f\"The training score for the best parameters is: {grid_rf.score(X_train, y_train):.4f}\")\n",
    "print(f\"The test score for best parameters is: {grid_rf.score(X_test, y_test):.4f}\")"
   ]
  },
  {
   "cell_type": "markdown",
   "metadata": {},
   "source": [
    "## Conclusions"
   ]
  },
  {
   "cell_type": "markdown",
   "metadata": {},
   "source": [
    "This was not my main objective of this project, but it an interesting concept to look at classification of certain types of beers. I clearly need to tune hyperparameters due to variance/bias tradeoffs and explore additional classification modeling techniques, but it's another interesting beer top to investigate."
   ]
  }
 ],
 "metadata": {
  "kernelspec": {
   "display_name": "DSI",
   "language": "python",
   "name": "dsi"
  },
  "language_info": {
   "codemirror_mode": {
    "name": "ipython",
    "version": 3
   },
   "file_extension": ".py",
   "mimetype": "text/x-python",
   "name": "python",
   "nbconvert_exporter": "python",
   "pygments_lexer": "ipython3",
   "version": "3.6.8"
  }
 },
 "nbformat": 4,
 "nbformat_minor": 2
}

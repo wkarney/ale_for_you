{
 "cells": [
  {
   "cell_type": "markdown",
   "metadata": {},
   "source": [
    "## Pulling data on USA breweries from Open Brewery DB"
   ]
  },
  {
   "cell_type": "code",
   "execution_count": 1,
   "metadata": {},
   "outputs": [],
   "source": [
    "# Package data for using openbrewerydb to pull brewery data\n",
    "import pandas as pd\n",
    "import requests\n",
    "import openbrewerydb"
   ]
  },
  {
   "cell_type": "code",
   "execution_count": 3,
   "metadata": {},
   "outputs": [],
   "source": [
    "# Pull in list of US states + DC\n",
    "usa = pd.read_csv('./50_us_states_all_data.csv', names = ['capitalized','name','abbr','abbrev'])\n",
    "usa = usa['name'].map(lambda x: x.lower())\n",
    "usa[51] = 'district of columbia'"
   ]
  },
  {
   "cell_type": "code",
   "execution_count": 4,
   "metadata": {},
   "outputs": [
    {
     "name": "stdout",
     "output_type": "stream",
     "text": [
      "Loaded data for 46 breweries\n",
      "Loaded data for 45 breweries\n",
      "Loaded data for 126 breweries\n",
      "Loaded data for 45 breweries\n",
      "Loaded data for 915 breweries\n",
      "Loaded data for 439 breweries\n",
      "Loaded data for 94 breweries\n",
      "Loaded data for 29 breweries\n",
      "Loaded data for 321 breweries\n",
      "Loaded data for 104 breweries\n",
      "Loaded data for 22 breweries\n",
      "Loaded data for 62 breweries\n",
      "Loaded data for 255 breweries\n",
      "Loaded data for 168 breweries\n",
      "Loaded data for 87 breweries\n",
      "Loaded data for 48 breweries\n",
      "Loaded data for 59 breweries\n",
      "Loaded data for 44 breweries\n",
      "Loaded data for 115 breweries\n",
      "Loaded data for 113 breweries\n",
      "Loaded data for 174 breweries\n",
      "Loaded data for 381 breweries\n",
      "Loaded data for 185 breweries\n",
      "Loaded data for 16 breweries\n",
      "Loaded data for 116 breweries\n",
      "Loaded data for 93 breweries\n",
      "Loaded data for 54 breweries\n",
      "Loaded data for 53 breweries\n",
      "Loaded data for 73 breweries\n",
      "Loaded data for 120 breweries\n",
      "Loaded data for 84 breweries\n",
      "Loaded data for 428 breweries\n",
      "Loaded data for 315 breweries\n",
      "Loaded data for 16 breweries\n",
      "Loaded data for 311 breweries\n",
      "Loaded data for 43 breweries\n",
      "Loaded data for 296 breweries\n",
      "Loaded data for 354 breweries\n",
      "Loaded data for 24 breweries\n",
      "Loaded data for 81 breweries\n",
      "Loaded data for 28 breweries\n",
      "Loaded data for 112 breweries\n",
      "Loaded data for 361 breweries\n",
      "Loaded data for 43 breweries\n",
      "Loaded data for 61 breweries\n",
      "Loaded data for 257 breweries\n",
      "Loaded data for 414 breweries\n",
      "Loaded data for 31 breweries\n",
      "Loaded data for 211 breweries\n",
      "Loaded data for 34 breweries\n",
      "Loaded data for 17 breweries\n",
      "Time elapsed: 0.72 sec"
     ]
    }
   ],
   "source": [
    "# Pull brewery data via Open Brewery DB API via Python wrapper and append to dataframe\n",
    "breweries = pd.DataFrame()\n",
    "for states in usa:\n",
    "    state_brews = openbrewerydb.load(state=states, verbose=True)\n",
    "    breweries = breweries.append(state_brews)"
   ]
  },
  {
   "cell_type": "code",
   "execution_count": 5,
   "metadata": {},
   "outputs": [
    {
     "data": {
      "text/plain": [
       "(7923, 14)"
      ]
     },
     "execution_count": 5,
     "metadata": {},
     "output_type": "execute_result"
    }
   ],
   "source": [
    "breweries.shape # Size of brewery data set"
   ]
  },
  {
   "cell_type": "code",
   "execution_count": 6,
   "metadata": {},
   "outputs": [],
   "source": [
    "# Removing breweries listed as in planning stages\n",
    "breweries = breweries[breweries['brewery_type'] !='planning']"
   ]
  },
  {
   "cell_type": "code",
   "execution_count": 7,
   "metadata": {},
   "outputs": [
    {
     "data": {
      "text/plain": [
       "(6939, 14)"
      ]
     },
     "execution_count": 7,
     "metadata": {},
     "output_type": "execute_result"
    }
   ],
   "source": [
    "breweries.shape # Adjusted size of brewery data set"
   ]
  },
  {
   "cell_type": "code",
   "execution_count": 9,
   "metadata": {},
   "outputs": [],
   "source": [
    "# Export full USA brewery list to \n",
    "breweries.to_csv('../../data/usa_breweries.csv')"
   ]
  }
 ],
 "metadata": {
  "kernelspec": {
   "display_name": "DSI",
   "language": "python",
   "name": "dsi"
  },
  "language_info": {
   "codemirror_mode": {
    "name": "ipython",
    "version": 3
   },
   "file_extension": ".py",
   "mimetype": "text/x-python",
   "name": "python",
   "nbconvert_exporter": "python",
   "pygments_lexer": "ipython3",
   "version": "3.6.8"
  }
 },
 "nbformat": 4,
 "nbformat_minor": 2
}

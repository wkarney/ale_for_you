{
 "cells": [
  {
   "cell_type": "code",
   "execution_count": 89,
   "metadata": {},
   "outputs": [],
   "source": [
    "import requests\n",
    "from bs4 import BeautifulSoup\n",
    "import pandas as pd\n",
    "from selenium import webdriver\n",
    "from time import sleep\n",
    "\n",
    "pd.options.display.max_columns = 5_000 # So I can see all the columns rather than just ...\n",
    "pd.options.display.max_rows = 500\n",
    "pd.options.display.max_colwidth = 1000"
   ]
  },
  {
   "cell_type": "code",
   "execution_count": null,
   "metadata": {},
   "outputs": [],
   "source": [
    "driver = webdriver.Chrome(executable_path='../chromedriver')"
   ]
  },
  {
   "cell_type": "code",
   "execution_count": 263,
   "metadata": {},
   "outputs": [],
   "source": [
    "allreviews = pd.DataFrame()\n",
    "for pg in range(34):\n",
    "    url = f'https://beerandbrewing.com/beer-reviews/?q=&hPP=30&idx=cbb_web_review_search&p={pg}'\n",
    "    driver.get(url)\n",
    "    sleep(10)\n",
    "    html = driver.page_source\n",
    "    soup = BeautifulSoup(html, 'lxml')\n",
    "    \n",
    "    desc = soup.find_all('p',{'class':\"hit-description\"})\n",
    "    reviews = []\n",
    "    for brew in desc:\n",
    "        beer = {}\n",
    "        beer['description'] = brew.text\n",
    "        reviews.append(beer)\n",
    "    \n",
    "    reviews = pd.DataFrame(reviews)\n",
    "    \n",
    "    beersoup = soup.find_all('div', {'class':['hit-content', 'col-xs-12', 'col-sm-12', 'col-md-10', 'text-wrapper']})\n",
    "    \n",
    "    names = []\n",
    "    links = []\n",
    "    for i in beersoup[6:]:\n",
    "        if i.find('img',{'alt':True}) != None:\n",
    "            img = i.find('img',{'alt':True})\n",
    "            names.append(img['alt'])\n",
    "        if i.find('a',{'href':True}) != None:\n",
    "            link =  i.find('a',{'href':True})\n",
    "            links.append(link['href'])\n",
    "    \n",
    "    beerlinks = []\n",
    "    for i in range(0, len(links)):\n",
    "        if i % 2 == 0 and (links[i].find('review') == True) and (links[i] not in beerlinks):\n",
    "            beerlinks.append(links[i])\n",
    "    \n",
    "    reviews['names'] = names\n",
    "    reviews['links'] = beerlinks\n",
    "    allreviews = allreviews.append(reviews)"
   ]
  },
  {
   "cell_type": "code",
   "execution_count": 269,
   "metadata": {},
   "outputs": [],
   "source": [
    "beerandbrewing = allreviews.reset_index().drop(columns='index')\n",
    "beerandbrewing.to_csv('../../beerandbrewing_reviews.csv', index=False)"
   ]
  },
  {
   "cell_type": "code",
   "execution_count": 270,
   "metadata": {},
   "outputs": [],
   "source": [
    "driver.close()"
   ]
  },
  {
   "cell_type": "code",
   "execution_count": null,
   "metadata": {},
   "outputs": [],
   "source": []
  }
 ],
 "metadata": {
  "kernelspec": {
   "display_name": "DSI",
   "language": "python",
   "name": "dsi"
  },
  "language_info": {
   "codemirror_mode": {
    "name": "ipython",
    "version": 3
   },
   "file_extension": ".py",
   "mimetype": "text/x-python",
   "name": "python",
   "nbconvert_exporter": "python",
   "pygments_lexer": "ipython3",
   "version": "3.6.8"
  }
 },
 "nbformat": 4,
 "nbformat_minor": 2
}

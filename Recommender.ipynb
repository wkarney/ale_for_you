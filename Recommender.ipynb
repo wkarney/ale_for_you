{
 "cells": [
  {
   "cell_type": "code",
   "execution_count": 1,
   "metadata": {},
   "outputs": [],
   "source": [
    "# Package imports\n",
    "from __future__ import print_function # for ipywidgets\n",
    "import pandas as pd\n",
    "import numpy as np\n",
    "import matplotlib.pyplot as plt\n",
    "import pickle\n",
    "from scipy import sparse\n",
    "\n",
    "from sklearn.preprocessing import StandardScaler\n",
    "from sklearn.feature_extraction.text import CountVectorizer, TfidfVectorizer\n",
    "from sklearn.metrics.pairwise import cosine_similarity, pairwise_distances\n",
    "\n",
    "import ipywidgets as wg\n",
    "\n",
    "from ipywidgets import interact, interactive, fixed, interact_manual, widgets, interact, interact_manual, fixed\n",
    "from IPython.display import display, clear_output, HTML, Javascript\n",
    "\n",
    "pd.set_option('display.max_colwidth', -1)\n",
    "pd.set_option('display.max_rows', None)"
   ]
  },
  {
   "cell_type": "code",
   "execution_count": 2,
   "metadata": {},
   "outputs": [],
   "source": [
    "# Load in pickled list of beers\n",
    "with open('./data/beerlist.pickle', 'rb') as f:\n",
    "    beerlist = pickle.load(f)\n",
    "    \n",
    "beerlist = [beers.lower() for beers in beerlist]"
   ]
  },
  {
   "cell_type": "code",
   "execution_count": 3,
   "metadata": {},
   "outputs": [],
   "source": [
    "# Load in pickled list\n",
    "with open('./data/beer_review_pivot_large.pickle', 'rb') as f:\n",
    "    beerreviews = pickle.load(f)\n",
    "    \n",
    "# Load in cleaned database of beer data\n",
    "full_data = pd.read_csv('./data/dmv_beer_database_extra_categories.csv')\n",
    "reviews_plus = pd.merge(left=beerreviews, right=full_data, left_on=beerreviews.index, right_on=full_data['name'])\n",
    "reviews_plus = reviews_plus.drop(columns=['key_0'])"
   ]
  },
  {
   "cell_type": "code",
   "execution_count": 12,
   "metadata": {},
   "outputs": [
    {
     "name": "stdout",
     "output_type": "stream",
     "text": [
      "Minimum rating for your recommendation? (0-5)0\n",
      "Maximum rating for your recommendation? (0-5)5\n",
      "What do you want to search for?3 Star\n"
     ]
    }
   ],
   "source": [
    "# Variables to be used in model\n",
    "try:\n",
    "    min_rating = float(input(\"Minimum rating for your recommendation? (0-5)\"))\n",
    "    max_rating = float(input(\"Maximum rating for your recommendation? (0-5)\"))\n",
    "except:\n",
    "    print(\"Were those numbers?\")\n",
    "    min_rating = float(input(\"Minimum rating for your recommendation? (0-5)\"))\n",
    "    max_rating = float(input(\"Maximum rating for your recommendation? (0-5)\"))\n",
    "\n",
    "beer_regions = ['DC', 'MD', 'VA'] # Including all for now\n",
    "# base_beer = beerlabel_widget.value\n",
    "# prediction_style = prediction_style_widget.value\n",
    "beer_query = str(input(\"What do you want to search for?\"))"
   ]
  },
  {
   "cell_type": "code",
   "execution_count": 6,
   "metadata": {},
   "outputs": [],
   "source": [
    "# def make_basic_content_rec_df(content_matrix=dmv_beer_basic_content):\n",
    "    \n",
    "#     # Instantiate scaler\n",
    "#     sc = StandardScaler()\n",
    "    \n",
    "#     # Fit and transfrom\n",
    "#     dmv_beer_content_scaled = sc.fit_transform(content_matrix.todense())\n",
    "    \n",
    "#     # Calculate cosine similarity matrix\n",
    "#     basic_content_recommender = pairwise_distances(dmv_beer_content_scaled, metric='cosine')\n",
    "    \n",
    "#     basic_content_recommender_df = pd.DataFrame(basic_content_recommender, columns=beerlist, index=beerlist)\n",
    "    \n",
    "#     return basic_content_recommender_df"
   ]
  },
  {
   "cell_type": "code",
   "execution_count": 7,
   "metadata": {},
   "outputs": [],
   "source": [
    "def make_NLP_content_rec_df(search=beer_query, min_rating=min_rating, max_rating=max_rating, \n",
    "                            states=beer_regions, content_df=reviews_plus, \n",
    "                            max_features=None):\n",
    "    \n",
    "    search = search.lower()\n",
    "    itemlist = [beer.lower() for beer in itemlist] # not necessary\n",
    "    \n",
    "    sublist = []\n",
    "    \n",
    "    for item in itemlist:\n",
    "        try:\n",
    "            if item.index(search) >= 0:\n",
    "                sublist.append(item)\n",
    "        except:\n",
    "            continue\n",
    "    \n",
    "    rating_mask = (content_df['rating'] >= min_rating) & (content_df['rating'] <= max_rating)\n",
    "\n",
    "    if len(states) == 3:\n",
    "        state_mask = (content_df['state'] == 'DC') | (content_df['state'] == 'VA') | (content_df['state'] == 'MD')\n",
    "    elif len(beer_regions) == 2:\n",
    "        state_mask = (content_df['state'] == states[0]) | (content_df['state'] == states[1])\n",
    "    else:\n",
    "        state_mask = (content_df['state'] == states[0])\n",
    "        \n",
    "    base_mask = content_df['name'] == base\n",
    "    \n",
    "    beer_corpus = content_df[(rating_mask & state_mask) | base_mask]\n",
    "    \n",
    "    tf = TfidfVectorizer(stop_words='english', max_features=max_features)\n",
    "    \n",
    "    filtered_beer_reviews = tf.fit_transform(beer_corpus['review_text'])\n",
    "    \n",
    "    filtered_beer_list = [beer.lower() for beer in beer_corpus['name']]\n",
    "    \n",
    "    reviewNLP_content_recommender = pairwise_distances(filtered_beer_reviews, metric='cosine')\n",
    "    \n",
    "    reviewNLP_content_recommender_df = pd.DataFrame(reviewNLP_content_recommender, \n",
    "                                                    columns=filtered_beer_list, \n",
    "                                                    index=filtered_beer_list)\n",
    "    \n",
    "    return reviewNLP_content_recommender_df, filtered_beer_list"
   ]
  },
  {
   "cell_type": "code",
   "execution_count": 8,
   "metadata": {},
   "outputs": [],
   "source": [
    "#https://medium.com/@cristhianboujon/how-to-list-the-most-common-words-from-text-corpus-using-scikit-learn-dad4d0cab41d\n",
    "#used code I found on medium to create a list of the top 10 most frequent words in filtered corpus\n",
    "def get_top_n_words(corpus, n=None):\n",
    "    \n",
    "    # List the top n words in a vocabulary according to occurrence in a text corpus.\n",
    "    \n",
    "    vec = CountVectorizer(stop_words='english').fit(corpus)\n",
    "    bag_of_words = vec.transform(corpus)\n",
    "    sum_words = bag_of_words.sum(axis=0) \n",
    "    words_freq = [(word, sum_words[0, idx]) for word, idx in vec.vocabulary_.items()]\n",
    "    words_freq = sorted(words_freq, key = lambda x: x[1], reverse=True)\n",
    "    \n",
    "    return words_freq[:n]"
   ]
  },
  {
   "cell_type": "code",
   "execution_count": 9,
   "metadata": {},
   "outputs": [],
   "source": [
    "def recommendations(recommender_df, itemlist, base):\n",
    "    \n",
    "    print(\"Here are your closest beers!\")\n",
    "    print(\"\")\n",
    "    print(recommender_df.loc[base.lower()].sort_values()[1:11])\n",
    "    print(\"\")\n",
    "    print(\"\")\n",
    "    print(\"Here are the most different beers possible!\")\n",
    "    print(\"\")\n",
    "    print(recommender_df.loc[base.lower()].sort_values()[-10:])\n",
    "    "
   ]
  },
  {
   "cell_type": "code",
   "execution_count": 10,
   "metadata": {},
   "outputs": [
    {
     "name": "stdout",
     "output_type": "stream",
     "text": [
      "Here are your closest beers!\n",
      "\n",
      "union craft double duckpin     0.431639\n",
      "duclaw neon gypsy              0.443277\n",
      "hardywood the great return     0.444193\n",
      "alewerks bitter valentine      0.455286\n",
      "3 stars pounding trees         0.458921\n",
      "heavy seas the alpha effect    0.464530\n",
      "champion missile ipa           0.466634\n",
      "alewerks secret admirer        0.467086\n",
      "3 stars ghost white ipa        0.467730\n",
      "dc brau alpha domina mellis    0.468467\n",
      "Name: 3 stars #ultrafresh, dtype: float64\n",
      "\n",
      "\n",
      "Here are the most different beers possible!\n",
      "\n",
      "bluejacket heart it races                              0.995906\n",
      "oliver love at first sting                             0.997960\n",
      "adroit theory invisible art (rum barrel aged)          0.998135\n",
      "sapwood ziparillo                                      0.998169\n",
      "peabody heights flying v                               1.000000\n",
      "mustang sally hat trick                                1.000000\n",
      "goonda o.ji. - vic secret                              1.000000\n",
      "goonda o.ji. - vic secret                              1.000000\n",
      "strangeways woodbooger (emperor's chocolate elixir)    1.000000\n",
      "burley oak fair trade                                  1.000000\n",
      "Name: 3 stars #ultrafresh, dtype: float64\n",
      "\n",
      "Here are some top words!\n"
     ]
    },
    {
     "ename": "KeyError",
     "evalue": "\"None of [Index(['1781 belgiquiose d' or', '1781 belsnickel', '1781 conifére',\\n       '1781 el jefe', '1781 kazuno maharoba', '1781 l'automne',\\n       '1781 lafayette saison (version 1 - bottled)',\\n       '1781 lafayette saison (version 2 - draft)', '1781 persephone',\\n       '1781 von steuben kolsch',\\n       ...\\n       'young veterans shock diamond', 'young veterans tower buzz',\\n       'young veterans truce in the forest',\\n       'de lazy lizard boardwalk copper ale',\\n       'de lazy lizard chasin' tail ipa', 'de lazy lizard phat puckin' porter',\\n       'de lazy lizard snow job', 'de lazy lizard strong ale',\\n       'de lazy lizard trophy wife blonde ale',\\n       'de lazy lizard two timin' tegu double ipa'],\\n      dtype='object', name='beer', length=12128)] are in the [index]\"",
     "output_type": "error",
     "traceback": [
      "\u001b[0;31m---------------------------------------------------------------------------\u001b[0m",
      "\u001b[0;31mKeyError\u001b[0m                                  Traceback (most recent call last)",
      "\u001b[0;32m<ipython-input-10-75979ffdacdc>\u001b[0m in \u001b[0;36m<module>\u001b[0;34m\u001b[0m\n\u001b[1;32m     26\u001b[0m \u001b[0;34m\u001b[0m\u001b[0m\n\u001b[1;32m     27\u001b[0m \u001b[0;31m#     filtered_list = [beer for beer in filtered_beers]\u001b[0m\u001b[0;34m\u001b[0m\u001b[0;34m\u001b[0m\u001b[0;34m\u001b[0m\u001b[0m\n\u001b[0;32m---> 28\u001b[0;31m     \u001b[0mpop_words\u001b[0m \u001b[0;34m=\u001b[0m \u001b[0mget_top_n_words\u001b[0m\u001b[0;34m(\u001b[0m\u001b[0mbeerreviews\u001b[0m\u001b[0;34m.\u001b[0m\u001b[0mloc\u001b[0m\u001b[0;34m[\u001b[0m\u001b[0mfiltered_beers\u001b[0m\u001b[0;34m,\u001b[0m\u001b[0;34m'review_text'\u001b[0m\u001b[0;34m]\u001b[0m\u001b[0;34m,\u001b[0m \u001b[0mn\u001b[0m\u001b[0;34m=\u001b[0m\u001b[0;36m20\u001b[0m\u001b[0;34m)\u001b[0m\u001b[0;34m\u001b[0m\u001b[0;34m\u001b[0m\u001b[0m\n\u001b[0m\u001b[1;32m     29\u001b[0m \u001b[0;34m\u001b[0m\u001b[0m\n\u001b[1;32m     30\u001b[0m     \u001b[0mtop_words\u001b[0m \u001b[0;34m=\u001b[0m \u001b[0;34m[\u001b[0m\u001b[0;34m]\u001b[0m\u001b[0;34m\u001b[0m\u001b[0;34m\u001b[0m\u001b[0m\n",
      "\u001b[0;32m~/anaconda3/envs/dsi/lib/python3.6/site-packages/pandas/core/indexing.py\u001b[0m in \u001b[0;36m__getitem__\u001b[0;34m(self, key)\u001b[0m\n\u001b[1;32m   1492\u001b[0m             \u001b[0;32mexcept\u001b[0m \u001b[0;34m(\u001b[0m\u001b[0mKeyError\u001b[0m\u001b[0;34m,\u001b[0m \u001b[0mIndexError\u001b[0m\u001b[0;34m,\u001b[0m \u001b[0mAttributeError\u001b[0m\u001b[0;34m)\u001b[0m\u001b[0;34m:\u001b[0m\u001b[0;34m\u001b[0m\u001b[0;34m\u001b[0m\u001b[0m\n\u001b[1;32m   1493\u001b[0m                 \u001b[0;32mpass\u001b[0m\u001b[0;34m\u001b[0m\u001b[0;34m\u001b[0m\u001b[0m\n\u001b[0;32m-> 1494\u001b[0;31m             \u001b[0;32mreturn\u001b[0m \u001b[0mself\u001b[0m\u001b[0;34m.\u001b[0m\u001b[0m_getitem_tuple\u001b[0m\u001b[0;34m(\u001b[0m\u001b[0mkey\u001b[0m\u001b[0;34m)\u001b[0m\u001b[0;34m\u001b[0m\u001b[0;34m\u001b[0m\u001b[0m\n\u001b[0m\u001b[1;32m   1495\u001b[0m         \u001b[0;32melse\u001b[0m\u001b[0;34m:\u001b[0m\u001b[0;34m\u001b[0m\u001b[0;34m\u001b[0m\u001b[0m\n\u001b[1;32m   1496\u001b[0m             \u001b[0;31m# we by definition only have the 0th axis\u001b[0m\u001b[0;34m\u001b[0m\u001b[0;34m\u001b[0m\u001b[0;34m\u001b[0m\u001b[0m\n",
      "\u001b[0;32m~/anaconda3/envs/dsi/lib/python3.6/site-packages/pandas/core/indexing.py\u001b[0m in \u001b[0;36m_getitem_tuple\u001b[0;34m(self, tup)\u001b[0m\n\u001b[1;32m    866\u001b[0m     \u001b[0;32mdef\u001b[0m \u001b[0m_getitem_tuple\u001b[0m\u001b[0;34m(\u001b[0m\u001b[0mself\u001b[0m\u001b[0;34m,\u001b[0m \u001b[0mtup\u001b[0m\u001b[0;34m)\u001b[0m\u001b[0;34m:\u001b[0m\u001b[0;34m\u001b[0m\u001b[0;34m\u001b[0m\u001b[0m\n\u001b[1;32m    867\u001b[0m         \u001b[0;32mtry\u001b[0m\u001b[0;34m:\u001b[0m\u001b[0;34m\u001b[0m\u001b[0;34m\u001b[0m\u001b[0m\n\u001b[0;32m--> 868\u001b[0;31m             \u001b[0;32mreturn\u001b[0m \u001b[0mself\u001b[0m\u001b[0;34m.\u001b[0m\u001b[0m_getitem_lowerdim\u001b[0m\u001b[0;34m(\u001b[0m\u001b[0mtup\u001b[0m\u001b[0;34m)\u001b[0m\u001b[0;34m\u001b[0m\u001b[0;34m\u001b[0m\u001b[0m\n\u001b[0m\u001b[1;32m    869\u001b[0m         \u001b[0;32mexcept\u001b[0m \u001b[0mIndexingError\u001b[0m\u001b[0;34m:\u001b[0m\u001b[0;34m\u001b[0m\u001b[0;34m\u001b[0m\u001b[0m\n\u001b[1;32m    870\u001b[0m             \u001b[0;32mpass\u001b[0m\u001b[0;34m\u001b[0m\u001b[0;34m\u001b[0m\u001b[0m\n",
      "\u001b[0;32m~/anaconda3/envs/dsi/lib/python3.6/site-packages/pandas/core/indexing.py\u001b[0m in \u001b[0;36m_getitem_lowerdim\u001b[0;34m(self, tup)\u001b[0m\n\u001b[1;32m   1015\u001b[0m                     \u001b[0;32mreturn\u001b[0m \u001b[0msection\u001b[0m\u001b[0;34m\u001b[0m\u001b[0;34m\u001b[0m\u001b[0m\n\u001b[1;32m   1016\u001b[0m                 \u001b[0;31m# This is an elided recursive call to iloc/loc/etc'\u001b[0m\u001b[0;34m\u001b[0m\u001b[0;34m\u001b[0m\u001b[0;34m\u001b[0m\u001b[0m\n\u001b[0;32m-> 1017\u001b[0;31m                 \u001b[0;32mreturn\u001b[0m \u001b[0mgetattr\u001b[0m\u001b[0;34m(\u001b[0m\u001b[0msection\u001b[0m\u001b[0;34m,\u001b[0m \u001b[0mself\u001b[0m\u001b[0;34m.\u001b[0m\u001b[0mname\u001b[0m\u001b[0;34m)\u001b[0m\u001b[0;34m[\u001b[0m\u001b[0mnew_key\u001b[0m\u001b[0;34m]\u001b[0m\u001b[0;34m\u001b[0m\u001b[0;34m\u001b[0m\u001b[0m\n\u001b[0m\u001b[1;32m   1018\u001b[0m \u001b[0;34m\u001b[0m\u001b[0m\n\u001b[1;32m   1019\u001b[0m         \u001b[0;32mraise\u001b[0m \u001b[0mIndexingError\u001b[0m\u001b[0;34m(\u001b[0m\u001b[0;34m'not applicable'\u001b[0m\u001b[0;34m)\u001b[0m\u001b[0;34m\u001b[0m\u001b[0;34m\u001b[0m\u001b[0m\n",
      "\u001b[0;32m~/anaconda3/envs/dsi/lib/python3.6/site-packages/pandas/core/indexing.py\u001b[0m in \u001b[0;36m__getitem__\u001b[0;34m(self, key)\u001b[0m\n\u001b[1;32m   1498\u001b[0m \u001b[0;34m\u001b[0m\u001b[0m\n\u001b[1;32m   1499\u001b[0m             \u001b[0mmaybe_callable\u001b[0m \u001b[0;34m=\u001b[0m \u001b[0mcom\u001b[0m\u001b[0;34m.\u001b[0m\u001b[0mapply_if_callable\u001b[0m\u001b[0;34m(\u001b[0m\u001b[0mkey\u001b[0m\u001b[0;34m,\u001b[0m \u001b[0mself\u001b[0m\u001b[0;34m.\u001b[0m\u001b[0mobj\u001b[0m\u001b[0;34m)\u001b[0m\u001b[0;34m\u001b[0m\u001b[0;34m\u001b[0m\u001b[0m\n\u001b[0;32m-> 1500\u001b[0;31m             \u001b[0;32mreturn\u001b[0m \u001b[0mself\u001b[0m\u001b[0;34m.\u001b[0m\u001b[0m_getitem_axis\u001b[0m\u001b[0;34m(\u001b[0m\u001b[0mmaybe_callable\u001b[0m\u001b[0;34m,\u001b[0m \u001b[0maxis\u001b[0m\u001b[0;34m=\u001b[0m\u001b[0maxis\u001b[0m\u001b[0;34m)\u001b[0m\u001b[0;34m\u001b[0m\u001b[0;34m\u001b[0m\u001b[0m\n\u001b[0m\u001b[1;32m   1501\u001b[0m \u001b[0;34m\u001b[0m\u001b[0m\n\u001b[1;32m   1502\u001b[0m     \u001b[0;32mdef\u001b[0m \u001b[0m_is_scalar_access\u001b[0m\u001b[0;34m(\u001b[0m\u001b[0mself\u001b[0m\u001b[0;34m,\u001b[0m \u001b[0mkey\u001b[0m\u001b[0;34m)\u001b[0m\u001b[0;34m:\u001b[0m\u001b[0;34m\u001b[0m\u001b[0;34m\u001b[0m\u001b[0m\n",
      "\u001b[0;32m~/anaconda3/envs/dsi/lib/python3.6/site-packages/pandas/core/indexing.py\u001b[0m in \u001b[0;36m_getitem_axis\u001b[0;34m(self, key, axis)\u001b[0m\n\u001b[1;32m   1900\u001b[0m                     \u001b[0;32mraise\u001b[0m \u001b[0mValueError\u001b[0m\u001b[0;34m(\u001b[0m\u001b[0;34m'Cannot index with multidimensional key'\u001b[0m\u001b[0;34m)\u001b[0m\u001b[0;34m\u001b[0m\u001b[0;34m\u001b[0m\u001b[0m\n\u001b[1;32m   1901\u001b[0m \u001b[0;34m\u001b[0m\u001b[0m\n\u001b[0;32m-> 1902\u001b[0;31m                 \u001b[0;32mreturn\u001b[0m \u001b[0mself\u001b[0m\u001b[0;34m.\u001b[0m\u001b[0m_getitem_iterable\u001b[0m\u001b[0;34m(\u001b[0m\u001b[0mkey\u001b[0m\u001b[0;34m,\u001b[0m \u001b[0maxis\u001b[0m\u001b[0;34m=\u001b[0m\u001b[0maxis\u001b[0m\u001b[0;34m)\u001b[0m\u001b[0;34m\u001b[0m\u001b[0;34m\u001b[0m\u001b[0m\n\u001b[0m\u001b[1;32m   1903\u001b[0m \u001b[0;34m\u001b[0m\u001b[0m\n\u001b[1;32m   1904\u001b[0m             \u001b[0;31m# nested tuple slicing\u001b[0m\u001b[0;34m\u001b[0m\u001b[0;34m\u001b[0m\u001b[0;34m\u001b[0m\u001b[0m\n",
      "\u001b[0;32m~/anaconda3/envs/dsi/lib/python3.6/site-packages/pandas/core/indexing.py\u001b[0m in \u001b[0;36m_getitem_iterable\u001b[0;34m(self, key, axis)\u001b[0m\n\u001b[1;32m   1203\u001b[0m             \u001b[0;31m# A collection of keys\u001b[0m\u001b[0;34m\u001b[0m\u001b[0;34m\u001b[0m\u001b[0;34m\u001b[0m\u001b[0m\n\u001b[1;32m   1204\u001b[0m             keyarr, indexer = self._get_listlike_indexer(key, axis,\n\u001b[0;32m-> 1205\u001b[0;31m                                                          raise_missing=False)\n\u001b[0m\u001b[1;32m   1206\u001b[0m             return self.obj._reindex_with_indexers({axis: [keyarr, indexer]},\n\u001b[1;32m   1207\u001b[0m                                                    copy=True, allow_dups=True)\n",
      "\u001b[0;32m~/anaconda3/envs/dsi/lib/python3.6/site-packages/pandas/core/indexing.py\u001b[0m in \u001b[0;36m_get_listlike_indexer\u001b[0;34m(self, key, axis, raise_missing)\u001b[0m\n\u001b[1;32m   1159\u001b[0m         self._validate_read_indexer(keyarr, indexer,\n\u001b[1;32m   1160\u001b[0m                                     \u001b[0mo\u001b[0m\u001b[0;34m.\u001b[0m\u001b[0m_get_axis_number\u001b[0m\u001b[0;34m(\u001b[0m\u001b[0maxis\u001b[0m\u001b[0;34m)\u001b[0m\u001b[0;34m,\u001b[0m\u001b[0;34m\u001b[0m\u001b[0;34m\u001b[0m\u001b[0m\n\u001b[0;32m-> 1161\u001b[0;31m                                     raise_missing=raise_missing)\n\u001b[0m\u001b[1;32m   1162\u001b[0m         \u001b[0;32mreturn\u001b[0m \u001b[0mkeyarr\u001b[0m\u001b[0;34m,\u001b[0m \u001b[0mindexer\u001b[0m\u001b[0;34m\u001b[0m\u001b[0;34m\u001b[0m\u001b[0m\n\u001b[1;32m   1163\u001b[0m \u001b[0;34m\u001b[0m\u001b[0m\n",
      "\u001b[0;32m~/anaconda3/envs/dsi/lib/python3.6/site-packages/pandas/core/indexing.py\u001b[0m in \u001b[0;36m_validate_read_indexer\u001b[0;34m(self, key, indexer, axis, raise_missing)\u001b[0m\n\u001b[1;32m   1244\u001b[0m                 raise KeyError(\n\u001b[1;32m   1245\u001b[0m                     u\"None of [{key}] are in the [{axis}]\".format(\n\u001b[0;32m-> 1246\u001b[0;31m                         key=key, axis=self.obj._get_axis_name(axis)))\n\u001b[0m\u001b[1;32m   1247\u001b[0m \u001b[0;34m\u001b[0m\u001b[0m\n\u001b[1;32m   1248\u001b[0m             \u001b[0;31m# We (temporarily) allow for some missing keys with .loc, except in\u001b[0m\u001b[0;34m\u001b[0m\u001b[0;34m\u001b[0m\u001b[0;34m\u001b[0m\u001b[0m\n",
      "\u001b[0;31mKeyError\u001b[0m: \"None of [Index(['1781 belgiquiose d' or', '1781 belsnickel', '1781 conifére',\\n       '1781 el jefe', '1781 kazuno maharoba', '1781 l'automne',\\n       '1781 lafayette saison (version 1 - bottled)',\\n       '1781 lafayette saison (version 2 - draft)', '1781 persephone',\\n       '1781 von steuben kolsch',\\n       ...\\n       'young veterans shock diamond', 'young veterans tower buzz',\\n       'young veterans truce in the forest',\\n       'de lazy lizard boardwalk copper ale',\\n       'de lazy lizard chasin' tail ipa', 'de lazy lizard phat puckin' porter',\\n       'de lazy lizard snow job', 'de lazy lizard strong ale',\\n       'de lazy lizard trophy wife blonde ale',\\n       'de lazy lizard two timin' tegu double ipa'],\\n      dtype='object', name='beer', length=12128)] are in the [index]\""
     ]
    }
   ],
   "source": [
    "# Variables to be used in model\n",
    "min_rating = rating_widget.value[0]\n",
    "max_rating = rating_widget.value[1]\n",
    "beer_regions = state_widget.value\n",
    "base_beer = beerlabel_widget.value\n",
    "prediction_style = prediction_style_widget.value\n",
    "\n",
    "# Try-except to deal with 'early' button presses before selecting a beer\n",
    "try:\n",
    "    base_beer = beerlabel_widget.value\n",
    "except:\n",
    "    print(\"You didn't pick a beer!\")\n",
    "\n",
    "# def beerme(b):\n",
    "\n",
    "if prediction_style == 'Beer Attributes':\n",
    "    pass\n",
    "elif prediction_style == 'Review Text':\n",
    "    current_beer_df = make_NLP_content_rec_df(base_beer, min_rating, max_rating, states=beer_regions)[0]\n",
    "    filtered_beers = make_NLP_content_rec_df(base_beer, min_rating, max_rating, states=beer_regions)[1]\n",
    "    \n",
    "    recommendations(current_beer_df, filtered_beers,base_beer)\n",
    "\n",
    "    print(\"\")\n",
    "    print(\"Here are some top words!\")\n",
    "\n",
    "#     filtered_list = [beer for beer in filtered_beers]\n",
    "    pop_words = get_top_n_words(beerreviews.loc[filtered_beers,'review_text'], n=20)\n",
    "\n",
    "    top_words = []\n",
    "\n",
    "    for i in range(len(pop_words)):\n",
    "        word_freq = {'word': pop_words[i][0],\n",
    "                     'frequency': pop_words[i][1]}\n",
    "\n",
    "        top_words.append(word_freq)\n",
    "\n",
    "    topwords_df = pd.DataFrame(top_words)\n",
    "\n",
    "    plt.figure(figsize=(10,6))\n",
    "    plt.bar(topwords_df['word'][:15], topwords_df['frequency'][:15], color='#B77D20')\n",
    "    plt.title(\"Most used words in beer reviews\", size=22)\n",
    "    plt.xticks(size=12, rotation=45);\n",
    "\n",
    "else:\n",
    "    pass"
   ]
  },
  {
   "cell_type": "code",
   "execution_count": null,
   "metadata": {},
   "outputs": [],
   "source": [
    "print(make_NLP_content_rec_df(base_beer)[1][:20])\n",
    "\n"
   ]
  },
  {
   "cell_type": "code",
   "execution_count": null,
   "metadata": {},
   "outputs": [],
   "source": [
    "# Instantiate scaler\n",
    "# sc = StandardScaler()"
   ]
  },
  {
   "cell_type": "code",
   "execution_count": null,
   "metadata": {},
   "outputs": [],
   "source": [
    "# Fit and transfrom\n",
    "# dmv_beer_content_scaled = sc.fit_transform(dmv_beer_basic_content.todense())"
   ]
  },
  {
   "cell_type": "code",
   "execution_count": null,
   "metadata": {},
   "outputs": [],
   "source": [
    "# Calculate cosine similarity matrix\n",
    "# basic_content_recommender = pairwise_distances(dmv_beer_content_scaled, metric='cosine')"
   ]
  },
  {
   "cell_type": "code",
   "execution_count": null,
   "metadata": {},
   "outputs": [],
   "source": [
    "# basic_content_recommender_df = pd.DataFrame(basic_content_recommender, columns=beerlist, index=beerlist)"
   ]
  },
  {
   "cell_type": "code",
   "execution_count": 16,
   "metadata": {},
   "outputs": [],
   "source": [
    "def recommender(search, recommender_df, itemlist=beerlist):\n",
    "    \n",
    "    search = search.lower()\n",
    "    itemlist = [beer.lower() for beer in itemlist] # not necessary\n",
    "    \n",
    "    sublist = []\n",
    "    \n",
    "    for item in itemlist:\n",
    "        try:\n",
    "            if item.index(search) >= 0:\n",
    "                sublist.append(item)\n",
    "        except:\n",
    "            continue\n",
    "    \n",
    "    for i in sublist:\n",
    "        print(i)\n",
    "        print(\"\")\n",
    "        print('10 closest beers:')\n",
    "        print(\"\")\n",
    "        print(recommender_df.loc[i].sort_values()[1:11])\n",
    "        print('')\n",
    "        print('10 furthest beers:')\n",
    "        print(\"\")\n",
    "        print(recommender_df.loc[i].sort_values()[-10:])\n",
    "        print('*******************************************************************************************')\n",
    "        print('')"
   ]
  },
  {
   "cell_type": "code",
   "execution_count": 26,
   "metadata": {},
   "outputs": [
    {
     "ename": "NameError",
     "evalue": "name 'basic_content_recommender_df' is not defined",
     "output_type": "error",
     "traceback": [
      "\u001b[0;31m---------------------------------------------------------------------------\u001b[0m",
      "\u001b[0;31mNameError\u001b[0m                                 Traceback (most recent call last)",
      "\u001b[0;32m<ipython-input-26-2d5342b9009e>\u001b[0m in \u001b[0;36m<module>\u001b[0;34m\u001b[0m\n\u001b[0;32m----> 1\u001b[0;31m \u001b[0mrecommender\u001b[0m\u001b[0;34m(\u001b[0m\u001b[0;34m'above the clouds'\u001b[0m\u001b[0;34m,\u001b[0m \u001b[0mrecommender_df\u001b[0m\u001b[0;34m=\u001b[0m\u001b[0mbasic_content_recommender_df\u001b[0m\u001b[0;34m)\u001b[0m\u001b[0;34m\u001b[0m\u001b[0;34m\u001b[0m\u001b[0m\n\u001b[0m",
      "\u001b[0;31mNameError\u001b[0m: name 'basic_content_recommender_df' is not defined"
     ]
    }
   ],
   "source": [
    "# recommender('above the clouds', recommender_df=basic_content_recommender_df)"
   ]
  },
  {
   "cell_type": "code",
   "execution_count": null,
   "metadata": {},
   "outputs": [],
   "source": []
  },
  {
   "cell_type": "code",
   "execution_count": null,
   "metadata": {},
   "outputs": [],
   "source": [
    "# # Load in pickled list\n",
    "# with open('./data/beer_review_pivot_large.pickle', 'rb') as f:\n",
    "#     beerreviews = pickle.load(f)"
   ]
  },
  {
   "cell_type": "code",
   "execution_count": null,
   "metadata": {},
   "outputs": [],
   "source": [
    "# tf = TfidfVectorizer(stop_words='english', max_features=None)\n",
    "# cv = CountVectorizer(stop_words='english', max_features = 5_000)"
   ]
  },
  {
   "cell_type": "code",
   "execution_count": null,
   "metadata": {},
   "outputs": [],
   "source": [
    "# dmv_beer_reviews = tf.fit_transform(beerreviews['review_text'])\n",
    "# dmv_beer_reviews = cv.fit_transform(beerreviews['review_text'])"
   ]
  },
  {
   "cell_type": "code",
   "execution_count": null,
   "metadata": {},
   "outputs": [],
   "source": [
    "# dmv_beer_reviews.todense()"
   ]
  },
  {
   "cell_type": "code",
   "execution_count": null,
   "metadata": {},
   "outputs": [],
   "source": [
    "# reviewNLP_content_recommender = pairwise_distances(dmv_beer_reviews, metric='cosine')"
   ]
  },
  {
   "cell_type": "code",
   "execution_count": null,
   "metadata": {},
   "outputs": [],
   "source": [
    "# reviewNLP_content_recommender"
   ]
  },
  {
   "cell_type": "code",
   "execution_count": null,
   "metadata": {},
   "outputs": [],
   "source": [
    "# reviewed_beers = [beers.lower() for beers in beerreviews.index.values]"
   ]
  },
  {
   "cell_type": "code",
   "execution_count": null,
   "metadata": {},
   "outputs": [],
   "source": [
    "# reviewNLP_content_recommender_df = pd.DataFrame(reviewNLP_content_recommender, columns=reviewed_beers, \n",
    "#                                                 index=reviewed_beers)\n",
    "# reviewNLP_content_recommender_df.head()"
   ]
  },
  {
   "cell_type": "code",
   "execution_count": null,
   "metadata": {},
   "outputs": [],
   "source": [
    "# recommender('above the clouds', recommender_df=reviewNLP_content_recommender_df, itemlist=reviewed_beers)"
   ]
  },
  {
   "cell_type": "code",
   "execution_count": null,
   "metadata": {},
   "outputs": [],
   "source": [
    "# pop_words = get_top_n_words(['review_text'], n=20)\n",
    "\n",
    "# top_words = []\n",
    "\n",
    "# for i in range(len(pop_words)):\n",
    "#     word_freq = {'word': pop_words[i][0],\n",
    "#                  'frequency': pop_words[i][1]}\n",
    "    \n",
    "#     top_words.append(word_freq)\n",
    "    \n",
    "# topwords_df = pd.DataFrame(top_words)    "
   ]
  },
  {
   "cell_type": "code",
   "execution_count": null,
   "metadata": {},
   "outputs": [],
   "source": [
    "# plt.figure(figsize=(10,6))\n",
    "# plt.bar(topwords_df['word'][:15], topwords_df['frequency'][:15], color='#B77D20')\n",
    "# plt.title(\"Most used words in beer reviews\", size=22)\n",
    "# plt.xticks(size=12, rotation=45);"
   ]
  },
  {
   "cell_type": "code",
   "execution_count": null,
   "metadata": {},
   "outputs": [],
   "source": [
    "# full_data = pd.read_csv('./data/dmv_beer_database_extra_categories.csv')\n",
    "# reviews_plus = pd.merge(left=beerreviews, right=full_data, left_on=beerreviews.index, right_on=full_data['name'])\n",
    "# reviews_plus = reviews_plus.drop(columns='key_0')\n",
    "# reviews_plus.head();"
   ]
  },
  {
   "cell_type": "code",
   "execution_count": 35,
   "metadata": {},
   "outputs": [],
   "source": [
    "# Filter based on rating\n",
    "beer_corpus = reviews_plus[reviews_plus['rating'] > 3.5]"
   ]
  },
  {
   "cell_type": "code",
   "execution_count": 41,
   "metadata": {},
   "outputs": [],
   "source": [
    "tf = TfidfVectorizer(stop_words='english', max_features=1_000)\n",
    "filtered_beer_reviews = tf.fit_transform(beer_corpus['review_text'])\n",
    "filtered_beer_list = [beer.lower() for beer in beer_corpus['name']]\n",
    "reviewNLP_content_recommender = pairwise_distances(filtered_beer_reviews, metric='cosine')\n",
    "reviewNLP_content_recommender_df = pd.DataFrame(reviewNLP_content_recommender, \n",
    "                                                columns=filtered_beer_list, \n",
    "                                                index=filtered_beer_list)"
   ]
  },
  {
   "cell_type": "code",
   "execution_count": 42,
   "metadata": {},
   "outputs": [
    {
     "name": "stdout",
     "output_type": "stream",
     "text": [
      "3 stars above the clouds\n",
      "\n",
      "10 closest beers:\n",
      "\n",
      "stillwater / mikkeller two gypsies our side                   0.180894\n",
      "flying dog in de wildeman farmhouse ipa                       0.183286\n",
      "brewer's art beazly                                           0.217498\n",
      "stillwater sensory series v.1 - lower dens                    0.233793\n",
      "grimm bff                                                     0.239983\n",
      "right proper ornette                                          0.243571\n",
      "lickinghole creek short pump saison virginia farmhouse ale    0.248131\n",
      "dc brau / union craft yonder cities                           0.259849\n",
      "heavy seas uncharted waters: red sky at morning               0.266414\n",
      "dc brau / stillwater middle-name: danger                      0.274676\n",
      "Name: 3 stars above the clouds, dtype: float64\n",
      "\n",
      "10 furthest beers:\n",
      "\n",
      "three notch'd biggie s'mores (big poppa)                        0.872881\n",
      "ocelot / j. wakefield here kitty kitty (bourbon barrel aged)    0.875562\n",
      "burley oak apricot raspberry j.r.e.a.m.                         0.876286\n",
      "triple crossing out of the blue                                 0.878328\n",
      "duclaw sweet baby jesus!                                        0.878847\n",
      "jailbreak dusk till dusk                                        0.882343\n",
      "the veil hornswoggler - maple coconut                           0.889955\n",
      "adroit theory therapy sessions (coconut, cinnamon, & pecan)     0.890627\n",
      "the veil / omnipollo henok                                      0.907679\n",
      "the answer jinxy cat                                            0.914164\n",
      "Name: 3 stars above the clouds, dtype: float64\n",
      "*******************************************************************************************\n",
      "\n"
     ]
    }
   ],
   "source": [
    "recommender('above the clouds', recommender_df=reviewNLP_content_recommender_df, itemlist=filtered_beer_list)"
   ]
  },
  {
   "cell_type": "code",
   "execution_count": 40,
   "metadata": {},
   "outputs": [],
   "source": [
    "# # Filter based on distance?\n",
    "\n",
    "\n",
    "# beer_corpus = reviews_plus[reviews_plus['rating'] > 3.5]"
   ]
  },
  {
   "cell_type": "code",
   "execution_count": null,
   "metadata": {},
   "outputs": [],
   "source": []
  }
 ],
 "metadata": {
  "kernelspec": {
   "display_name": "DSI",
   "language": "python",
   "name": "dsi"
  },
  "language_info": {
   "codemirror_mode": {
    "name": "ipython",
    "version": 3
   },
   "file_extension": ".py",
   "mimetype": "text/x-python",
   "name": "python",
   "nbconvert_exporter": "python",
   "pygments_lexer": "ipython3",
   "version": "3.6.8"
  }
 },
 "nbformat": 4,
 "nbformat_minor": 2
}

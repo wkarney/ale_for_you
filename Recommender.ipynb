{
 "cells": [
  {
   "cell_type": "markdown",
   "metadata": {},
   "source": [
    "### Package imports"
   ]
  },
  {
   "cell_type": "code",
   "execution_count": 1,
   "metadata": {},
   "outputs": [],
   "source": [
    "from __future__ import print_function # for ipywidgets\n",
    "import pandas as pd\n",
    "import numpy as np\n",
    "import matplotlib.pyplot as plt\n",
    "import pickle\n",
    "from scipy import sparse\n",
    "\n",
    "from sklearn.preprocessing import StandardScaler\n",
    "from sklearn.feature_extraction.text import CountVectorizer, TfidfVectorizer\n",
    "from sklearn.metrics.pairwise import cosine_similarity, pairwise_distances\n",
    "\n",
    "pd.set_option('display.max_colwidth', -1)\n",
    "pd.set_option('display.max_rows', None)\n",
    "pd.set_option('display.max_columns', None)"
   ]
  },
  {
   "cell_type": "markdown",
   "metadata": {},
   "source": [
    "## Loading in Data"
   ]
  },
  {
   "cell_type": "code",
   "execution_count": 2,
   "metadata": {},
   "outputs": [],
   "source": [
    "# Load in pickled list of beers\n",
    "with open('./data/beerlist.pickle', 'rb') as f:\n",
    "    beerlist = pickle.load(f)\n",
    "    \n",
    "beerlist = [beers.lower() for beers in beerlist]"
   ]
  },
  {
   "cell_type": "code",
   "execution_count": 3,
   "metadata": {},
   "outputs": [],
   "source": [
    "# Load in pickled list\n",
    "with open('./data/beer_review_pivot_large.pickle', 'rb') as f:\n",
    "    beerreviews = pickle.load(f)\n",
    "    \n",
    "# Load in cleaned database of beer data\n",
    "full_data = pd.read_csv('./data/dmv_beer_database_extra_categories.csv')\n",
    "reviews_plus = pd.merge(left=beerreviews, right=full_data, left_on=beerreviews.index, right_on=full_data['name'])\n",
    "reviews_plus = reviews_plus.drop(columns=['key_0'])"
   ]
  },
  {
   "cell_type": "code",
   "execution_count": 4,
   "metadata": {},
   "outputs": [
    {
     "name": "stderr",
     "output_type": "stream",
     "text": [
      "/Users/willkarnasiewicz/anaconda3/envs/dsi/lib/python3.6/site-packages/IPython/core/interactiveshell.py:3049: DtypeWarning: Columns (13) have mixed types. Specify dtype option on import or set low_memory=False.\n",
      "  interactivity=interactivity, compiler=compiler, result=result)\n"
     ]
    }
   ],
   "source": [
    "# Load in full database\n",
    "beer_data = pd.read_csv('./data/dmv_full_beer_data.csv')"
   ]
  },
  {
   "cell_type": "code",
   "execution_count": 5,
   "metadata": {},
   "outputs": [],
   "source": [
    "beer_data['beer'] = beer_data['beer'].map(lambda x: x.strip().lower())"
   ]
  },
  {
   "cell_type": "code",
   "execution_count": 6,
   "metadata": {},
   "outputs": [
    {
     "name": "stdout",
     "output_type": "stream",
     "text": [
      "Minimum rating for your recommendation? (0-5) 3\n",
      "Maximum rating for your recommendation? (0-5) 5\n",
      "What do you want to search for? dissonance\n"
     ]
    }
   ],
   "source": [
    "# Variables to be used in model\n",
    "try:\n",
    "    min_rating = float(input(\"Minimum rating for your recommendation? (0-5) \"))\n",
    "    max_rating = float(input(\"Maximum rating for your recommendation? (0-5) \"))\n",
    "except:\n",
    "    print(\"Were those numbers?\")\n",
    "    min_rating = float(input(\"Minimum rating for your recommendation? (0-5) \"))\n",
    "    max_rating = float(input(\"Maximum rating for your recommendation? (0-5) \"))\n",
    "\n",
    "beer_regions = ['DC', 'MD', 'VA'] # Including all for now\n",
    "# base_beer = beerlabel_widget.value\n",
    "# prediction_style = prediction_style_widget.value\n",
    "beer_query = str(input(\"What do you want to search for? \"))"
   ]
  },
  {
   "cell_type": "markdown",
   "metadata": {},
   "source": [
    "## Collaborative Recommender"
   ]
  },
  {
   "cell_type": "code",
   "execution_count": 7,
   "metadata": {},
   "outputs": [],
   "source": [
    "beer_collab = beer_data[['beer','user','rating']]\n",
    "# beer_collab['beer'] = beer_collab['beer'].map(lambda x: x.lower())"
   ]
  },
  {
   "cell_type": "code",
   "execution_count": 8,
   "metadata": {},
   "outputs": [],
   "source": [
    "beer_user_pivot = pd.pivot_table(beer_collab, index='beer', columns='user', values='rating')\n",
    "sparse_beer_reviewpivot = sparse.csr_matrix(beer_user_pivot.fillna(0))"
   ]
  },
  {
   "cell_type": "code",
   "execution_count": 9,
   "metadata": {},
   "outputs": [],
   "source": [
    "collab_recommender = pairwise_distances(sparse_beer_reviewpivot, metric='cosine')"
   ]
  },
  {
   "cell_type": "code",
   "execution_count": 10,
   "metadata": {},
   "outputs": [],
   "source": [
    "collab_recommender_df = pd.DataFrame(collab_recommender, columns=beer_user_pivot.index, index=beer_user_pivot.index)"
   ]
  },
  {
   "cell_type": "code",
   "execution_count": 11,
   "metadata": {},
   "outputs": [],
   "source": [
    "collab_recommender_df.head();"
   ]
  },
  {
   "cell_type": "code",
   "execution_count": 12,
   "metadata": {},
   "outputs": [],
   "source": [
    "def recommender(search, recommender_df, itemlist=beerlist):\n",
    "    \n",
    "    search = search.lower()\n",
    "    itemlist = [beer.lower() for beer in itemlist]\n",
    "    \n",
    "    sublist = []\n",
    "    \n",
    "    for item in itemlist:\n",
    "        try:\n",
    "            if item.index(search) >= 0:\n",
    "                sublist.append(item)\n",
    "        except:\n",
    "            continue\n",
    "    \n",
    "    for i in sublist:\n",
    "        print(i)\n",
    "        print(\"\")\n",
    "        print('10 closest beers:')\n",
    "        print(\"\")\n",
    "        print(recommender_df.loc[i.lower()].sort_values()[1:11])\n",
    "        print('')\n",
    "        print('10 furthest beers:')\n",
    "        print(\"\")\n",
    "        print(recommender_df.loc[i.lower()].sort_values()[-10:])\n",
    "        print(\"\")\n",
    "        print(\"\")"
   ]
  },
  {
   "cell_type": "code",
   "execution_count": 13,
   "metadata": {},
   "outputs": [
    {
     "name": "stdout",
     "output_type": "stream",
     "text": [
      "3 stars cognitive dissonance\n",
      "\n",
      "10 closest beers:\n",
      "\n",
      "beer\n",
      "franklins one of those funky thangs         0.263969\n",
      "barnhouse the matriarch imperial ipa        0.337850\n",
      "right proper marginalia                     0.341112\n",
      "adventure backpack wheat                    0.359044\n",
      "ocelot wonders of nature                    0.367070\n",
      "ocelot / meridian pint talking backwards    0.372529\n",
      "rocket frog cosmic charms                   0.372798\n",
      "triple crossing salinity                    0.377121\n",
      "quattro goombas oh snap!                    0.378162\n",
      "caboose vanilla hobo stout                  0.380728\n",
      "Name: 3 stars cognitive dissonance, dtype: float64\n",
      "\n",
      "10 furthest beers:\n",
      "\n",
      "beer\n",
      "hardywood plan 9 - 33 1/3 black vinyl stout    1.0\n",
      "hardywood petit saison                         1.0\n",
      "hardywood peach tripel (chardonnay barrel)     1.0\n",
      "hardywood patrick gone wild                    1.0\n",
      "hardywood park craft wyldflower                1.0\n",
      "hardywood oliver                               1.0\n",
      "hardywood new zeal & pale ale                  1.0\n",
      "hardywood nepsis (port barrel)                 1.0\n",
      "hardywood menagerie                            1.0\n",
      "young veterans truce in the forest             1.0\n",
      "Name: 3 stars cognitive dissonance, dtype: float64\n",
      "\n",
      "\n",
      "3 stars cognitive dissonance (pineapple)\n",
      "\n",
      "10 closest beers:\n",
      "\n",
      "beer\n",
      "3 stars northern hemisphere samsquanch                             7.472448e-07\n",
      "right proper coffee häxans (2013-2015)                             9.124794e-06\n",
      "right proper ginavit barrel ornithology                            1.102946e-04\n",
      "right proper range life - aramis                                   1.156387e-04\n",
      "right proper range life - centennial, hallertau blanc & chinook    1.156387e-04\n",
      "right proper / oxbow gregarious                                    1.266996e-04\n",
      "right proper the world as i found it                               1.365747e-04\n",
      "right proper range life - equinox                                  3.960395e-04\n",
      "7 locks ipa v.2 - leap year                                        4.069708e-04\n",
      "right proper range life - lemon drop                               8.914865e-04\n",
      "Name: 3 stars cognitive dissonance (pineapple), dtype: float64\n",
      "\n",
      "10 furthest beers:\n",
      "\n",
      "beer\n",
      "eavesdrop cloudy outlook pale ale      1.0\n",
      "eavesdrop house ipa                    1.0\n",
      "eavesdrop little grey bird grisette    1.0\n",
      "eavesdrop morning breath porter        1.0\n",
      "eavesdrop sunbreaker                   1.0\n",
      "el bandido pilsner                     1.0\n",
      "el bandido pineapple india pale ale    1.0\n",
      "elder pine & blending co chin chin!    1.0\n",
      "eavesdrop flying vision                1.0\n",
      "young veterans truce in the forest     1.0\n",
      "Name: 3 stars cognitive dissonance (pineapple), dtype: float64\n",
      "\n",
      "\n",
      "3 stars cognitive dissonance (raspberry)\n",
      "\n",
      "10 closest beers:\n",
      "\n",
      "beer\n",
      "dc brau barrel aged exaltation (red wine)       0.292192\n",
      "forge brew works the kelsenator                 0.357431\n",
      "right proper lou                                0.359534\n",
      "bluejacket shaking through                      0.376783\n",
      "fair winds following cs pale ale                0.378792\n",
      "atlas brew works home rule ( - 2017)            0.382217\n",
      "fair winds flemish stout                        0.396174\n",
      "new belgium / bluejacket sideshow               0.397901\n",
      "fair winds christmas in june                    0.398019\n",
      "atlas brew works la saison des fetes (brett)    0.401659\n",
      "Name: 3 stars cognitive dissonance (raspberry), dtype: float64\n",
      "\n",
      "10 furthest beers:\n",
      "\n",
      "beer\n",
      "growlers funked up brown ipa              1.0\n",
      "growlers foxxxy brown spiced brown ale    1.0\n",
      "growlers d’rail lite ale                  1.0\n",
      "growlers die dunkelheit dunkelweizen      1.0\n",
      "growlers darkside imperial stout          1.0\n",
      "growlers cream ale                        1.0\n",
      "growlers citrus sky saison                1.0\n",
      "growlers chesapeake old bay ale           1.0\n",
      "growlers peach fuzz peach gose            1.0\n",
      "young veterans truce in the forest        1.0\n",
      "Name: 3 stars cognitive dissonance (raspberry), dtype: float64\n",
      "\n",
      "\n"
     ]
    }
   ],
   "source": [
    "recommender(beer_query, collab_recommender_df)"
   ]
  },
  {
   "cell_type": "markdown",
   "metadata": {},
   "source": [
    "Problem with the collaborative recommender is that there are a ton of users that review multiple beers! Therefore you get a lot of beers that aren't rated!"
   ]
  },
  {
   "cell_type": "code",
   "execution_count": 14,
   "metadata": {},
   "outputs": [
    {
     "data": {
      "text/plain": [
       "2067    above average appearance yellow brown color small head nice lacing aroma is very nice pleasant clean hoppy smell taste of clean citrus hops very very nice ipa ,bottle orange tinged amber with moderate top fruity hops tropical and citrus , oz bottle born on july enjoy by november dark orange pour with a frothy almost white head aroma of tangerine and grapefruit mostly with notes of roses and sweet malt the taste is citrus forward but balanced with an obvious tropical fruit presence and a sturdy malt backbone the fruitiness from the hops lingers on the palate but the malt presence keeps this from ever becoming too bitter nicely done overall ,i think i got some blueberry notes the normal bitterness of an ipa wasn t prominent and it was very good smooth and pleasant with a medium mouth feel , ounce bottle thanks to nate light to medium orange with must and hops and citrus pine ,intensely hoppy and really floral and citrusy earthy malts and hops balanced and long on the palate lemon orange tangerine slick and clean on the finish ,draft taproom golden pour aroma of pine cat piss grapefruit flavor is citrus pine resin glue very flavorful ,draft slightly hazy golden amber slight head bit aroma of hops grapefruit pine some tangerine faint caramel flavor matches pleasant if not somehow very exciting iipa ,draft at the afton brewery the ale poured light amber color with an off white head and lacing lots of citrus and pine on the nose the ale has a medium body with average carbonation the bitterness is clean and smooth and the alcohol is undetectable making this dangerously drinkable ,on tap at carpool in herdon va clear amber gold with an an off white head and excellent lacing aroma of passion fruit tangerine tropical fruit and pine taste of resin pine tropical fruit tangerine and rather bitter earthy hops ,on tap at the brewery clear amber color nice citrusy hop aroma with some pine notes very smooth with lots of citrusy piney hop flavor fairly light creamy bready malt base very smooth and easy drinking for a fairly high gravity beer,served on tap at blue mountain cloudy orange color with a white head grapefruit hop oil aroma citrus grapefruit resin flavor medium heavy body rated via beer buddy for iphone,on draft at spacebar pours a clear gold with an off white head flavors of grass and tropical fruit moderately bitter finish ,pineapple strawberry rosehips bouquet hazy amber medium head tangerine lemongrass orange peel finish medium body easy carbonation delicious and well balanced , oz pour on draft at spacebar clear golden orange with off white head aromas of floral notes citrus pine tastes of pine citrus floral notes resin medium body with a dry finish pretty tasty ,piney aromas some sweet candy like notes slightly hazy orange with a fairly lasting small white head dry bitter piney medium full bodied ,keg at the va craft brewers festival hazy golden thin frothy off white head decent retention aroma of piney resin earthy hops the taste is pine resin green hops pale malt medium bodied lingering bitterness \n",
       "Name: review_text, dtype: object"
      ]
     },
     "execution_count": 14,
     "metadata": {},
     "output_type": "execute_result"
    }
   ],
   "source": [
    "# A random review\n",
    "reviews_plus.loc[np.random.choice(reviews_plus.shape[0],1),'review_text']"
   ]
  },
  {
   "cell_type": "code",
   "execution_count": 15,
   "metadata": {},
   "outputs": [],
   "source": [
    "#https://medium.com/@cristhianboujon/how-to-list-the-most-common-words-from-text-corpus-using-scikit-learn-dad4d0cab41d\n",
    "#used code I found on medium to create a list of the top 10 most frequent words in filtered corpus\n",
    "def get_top_n_words(corpus, n=None):\n",
    "    \n",
    "    # List the top n words in a vocabulary according to occurrence in a text corpus.\n",
    "    \n",
    "    vec = CountVectorizer(stop_words='english').fit(corpus)\n",
    "    bag_of_words = vec.transform(corpus)\n",
    "    sum_words = bag_of_words.sum(axis=0) \n",
    "    words_freq = [(word, sum_words[0, idx]) for word, idx in vec.vocabulary_.items()]\n",
    "    words_freq = sorted(words_freq, key = lambda x: x[1], reverse=True)\n",
    "    \n",
    "    return words_freq[:n]"
   ]
  },
  {
   "cell_type": "markdown",
   "metadata": {},
   "source": [
    "## Review Text NLP - Content Recommendations"
   ]
  },
  {
   "cell_type": "code",
   "execution_count": 16,
   "metadata": {},
   "outputs": [],
   "source": [
    "tf = TfidfVectorizer(stop_words='english')\n",
    "\n",
    "filtered_beer_reviews = tf.fit_transform(reviews_plus['review_text'])\n",
    "\n",
    "filtered_beer_list = [beer.lower() for beer in reviews_plus['name']]\n",
    "\n",
    "reviewNLP_content_recommender = pairwise_distances(filtered_beer_reviews, metric='cosine')\n",
    "\n",
    "reviewNLP_content_recommender_df = pd.DataFrame(reviewNLP_content_recommender, \n",
    "                                                columns=filtered_beer_list, \n",
    "                                                index=filtered_beer_list)"
   ]
  },
  {
   "cell_type": "code",
   "execution_count": 17,
   "metadata": {},
   "outputs": [
    {
     "name": "stdout",
     "output_type": "stream",
     "text": [
      "3 stars cognitive dissonance\n",
      "\n",
      "10 closest beers:\n",
      "\n",
      "burley oak sour trip                          0.412815\n",
      "flying dog berliner weisse                    0.440820\n",
      "burley oak sorry chicky                       0.445399\n",
      "right proper astral weeks                     0.448119\n",
      "right proper diamonds, fur coat, champagne    0.454076\n",
      "champion tart berliner weisse                 0.461861\n",
      "hardywood berliner weisse                     0.462272\n",
      "right proper pink boots gogo's gose           0.472804\n",
      "alewerks berliner weiss                       0.480815\n",
      "bluejacket seersucker                         0.482116\n",
      "Name: 3 stars cognitive dissonance, dtype: float64\n",
      "\n",
      "10 furthest beers:\n",
      "\n",
      "strangeways wallonian dawn (berry meritage)            0.998685\n",
      "burley oak fair trade                                  1.000000\n",
      "kindred spirit hoppy brown                             1.000000\n",
      "sapwood / black flag shared kingdom                    1.000000\n",
      "the answer / foam hard to earn                         1.000000\n",
      "strangeways woodbooger (emperor's chocolate elixir)    1.000000\n",
      "dc brau space reaper 2018                              1.000000\n",
      "sapwood / black flag shared kingdom                    1.000000\n",
      "bluejacket heart it races                              1.000000\n",
      "strangeways slutty cousin chocolate portia             1.000000\n",
      "Name: 3 stars cognitive dissonance, dtype: float64\n",
      "\n",
      "\n",
      "3 stars cognitive dissonance (pineapple)\n",
      "\n",
      "10 closest beers:\n",
      "\n",
      "flying dog brewhouse rarities: pineapple saison    0.599787\n",
      "the public option ipa #8                           0.610367\n",
      "right proper corn rigs and barley rigs             0.617762\n",
      "evolution craft pine'hop'le                        0.634691\n",
      "young veterans pineapple grenade                   0.649495\n",
      "scorpion not your grandma's fruitcake              0.652920\n",
      "grimm pineapple pop!                               0.653934\n",
      "grimm telekinesis                                  0.656681\n",
      "queen city apple                                   0.658683\n",
      "water's end equinox single hop                     0.660870\n",
      "Name: 3 stars cognitive dissonance (pineapple), dtype: float64\n",
      "\n",
      "10 furthest beers:\n",
      "\n",
      "bristol chocolate/coffee porter               1.0\n",
      "dynasty holliday farm caramel peanut stout    1.0\n",
      "tradition baby bear oatmeal stout             1.0\n",
      "chubby squirrel chubby american brown ale     1.0\n",
      "chaos mountain smokey meets bourbon           1.0\n",
      "old 690 beeraccino white stout                1.0\n",
      "twin creeks not so dark wheat                 1.0\n",
      "hammer & forge brokk baltic porter            1.0\n",
      "maltese jimbo's stout                         1.0\n",
      "7 dogs coffee stout                           1.0\n",
      "Name: 3 stars cognitive dissonance (pineapple), dtype: float64\n",
      "\n",
      "\n",
      "3 stars cognitive dissonance (raspberry)\n",
      "\n",
      "10 closest beers:\n",
      "\n",
      "grimm skyspace                                   0.309355\n",
      "hardywood anniversary ale (3rd) (raspberries)    0.335716\n",
      "grimm super crush                                0.345359\n",
      "aslin / stillwater recess                        0.347582\n",
      "grimm cherry raspberry pop!                      0.350974\n",
      "crooked run empress (raspberry)                  0.361684\n",
      "the veil never again                             0.364596\n",
      "reaver beach alchemical rem                      0.376249\n",
      "clipper city oxford organic raspberry wheat      0.394316\n",
      "aslin gose (blackberry & raspberry)              0.401182\n",
      "Name: 3 stars cognitive dissonance (raspberry), dtype: float64\n",
      "\n",
      "10 furthest beers:\n",
      "\n",
      "loose shoe night mare                                  0.994529\n",
      "bluejacket jim beam bourbon barrel-aged the wake       0.995162\n",
      "sapwood ziparillo                                      0.995755\n",
      "goonda o.ji. - vic secret                              0.996544\n",
      "goonda o.ji. - vic secret                              0.996544\n",
      "bluejacket heart it races                              0.996836\n",
      "mustang sally hat trick                                0.996872\n",
      "strangeways woodbooger (emperor's chocolate elixir)    0.998361\n",
      "peabody heights flying v                               1.000000\n",
      "the answer / foam hard to earn                         1.000000\n",
      "Name: 3 stars cognitive dissonance (raspberry), dtype: float64\n",
      "\n",
      "\n"
     ]
    }
   ],
   "source": [
    "recommender(beer_query, reviewNLP_content_recommender_df, itemlist=filtered_beer_list)"
   ]
  },
  {
   "cell_type": "code",
   "execution_count": 18,
   "metadata": {},
   "outputs": [],
   "source": [
    "#https://medium.com/@cristhianboujon/how-to-list-the-most-common-words-from-text-corpus-using-scikit-learn-dad4d0cab41d\n",
    "# used code I found on medium via my colleague Noah Monastersky to streamline the top words listing\n",
    "def get_top_n_words(corpus, n=None):\n",
    "    \n",
    "    # List the top n words in a vocabulary according to occurrence in a text corpus.\n",
    "    \n",
    "    vec = CountVectorizer(stop_words='english').fit(corpus)\n",
    "    bag_of_words = vec.transform(corpus)\n",
    "    sum_words = bag_of_words.sum(axis=0) \n",
    "    words_freq = [(word, sum_words[0, idx]) for word, idx in vec.vocabulary_.items()]\n",
    "    words_freq = sorted(words_freq, key = lambda x: x[1], reverse=True)\n",
    "    \n",
    "    return words_freq[:n]"
   ]
  },
  {
   "cell_type": "code",
   "execution_count": 19,
   "metadata": {},
   "outputs": [],
   "source": [
    "pop_words = get_top_n_words(reviews_plus['review_text'], n=20)\n",
    "\n",
    "top_words = []\n",
    "\n",
    "for i in range(len(pop_words)):\n",
    "    word_freq = {'word': pop_words[i][0],\n",
    "                 'frequency': pop_words[i][1]}\n",
    "    \n",
    "    top_words.append(word_freq)\n",
    "    \n",
    "topwords_df = pd.DataFrame(top_words)    "
   ]
  },
  {
   "cell_type": "code",
   "execution_count": 20,
   "metadata": {},
   "outputs": [
    {
     "data": {
      "image/png": "[encoded data removed]",
      "text/plain": [
       "<Figure size 720x432 with 1 Axes>"
      ]
     },
     "metadata": {
      "needs_background": "light"
     },
     "output_type": "display_data"
    }
   ],
   "source": [
    "plt.figure(figsize=(10,6))\n",
    "plt.bar(topwords_df['word'][:15], topwords_df['frequency'][:15], color='#B77D20')\n",
    "plt.title(\"Most used words in all beer reviews\", size=22)\n",
    "plt.xticks(size=12, rotation=45);"
   ]
  },
  {
   "cell_type": "markdown",
   "metadata": {},
   "source": [
    "Note: A pure content recommendation system was made looking at beer styles and other attributes such as ABV. It works but the beer style characteristics are overweighted heavily; thus you only get other India Pale Ale's if you're looking for similar beers to Atlas Brewing Home Rule."
   ]
  }
 ],
 "metadata": {
  "kernelspec": {
   "display_name": "DSI",
   "language": "python",
   "name": "dsi"
  },
  "language_info": {
   "codemirror_mode": {
    "name": "ipython",
    "version": 3
   },
   "file_extension": ".py",
   "mimetype": "text/x-python",
   "name": "python",
   "nbconvert_exporter": "python",
   "pygments_lexer": "ipython3",
   "version": "3.6.8"
  }
 },
 "nbformat": 4,
 "nbformat_minor": 2
}

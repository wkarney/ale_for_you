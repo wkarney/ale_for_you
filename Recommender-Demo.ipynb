{
 "cells": [
  {
   "cell_type": "code",
   "execution_count": 1,
   "metadata": {},
   "outputs": [],
   "source": [
    "# Package imports\n",
    "import pandas as pd\n",
    "import numpy as np\n",
    "import pickle\n",
    "from collections import Counter\n",
    "from nltk.corpus import stopwords\n",
    "import matplotlib.pyplot as plt\n",
    "\n",
    "from sklearn.preprocessing import StandardScaler\n",
    "from sklearn.feature_extraction.text import CountVectorizer, TfidfVectorizer\n",
    "from sklearn.metrics.pairwise import cosine_similarity, pairwise_distances\n",
    "\n",
    "from ipywidgets import widgets\n",
    "from IPython.display import display, clear_output, HTML, IFrame, Image"
   ]
  },
  {
   "cell_type": "code",
   "execution_count": 2,
   "metadata": {},
   "outputs": [],
   "source": [
    "# Insert your api key here \n",
    "gmaps_api = 'apikey-here'"
   ]
  },
  {
   "cell_type": "code",
   "execution_count": 3,
   "metadata": {},
   "outputs": [],
   "source": [
    "with open('./data/alldata.pickle', 'rb') as f:\n",
    "    reviews_plus = pickle.load(f)\n",
    "\n",
    "beerlist = [beer.lower() for beer in reviews_plus['name']]\n",
    "\n",
    "cv = CountVectorizer(stop_words='english')\n",
    "\n",
    "filtered_beer_reviews = cv.fit_transform(reviews_plus['review_text'])\n",
    "\n",
    "filtered_beer_list = [beer.lower() for beer in reviews_plus['name']]\n",
    "\n",
    "reviewNLP_content_recommender = pairwise_distances(filtered_beer_reviews, metric='cosine')\n",
    "\n",
    "reviewNLP_content_recommender_df = pd.DataFrame(reviewNLP_content_recommender, \n",
    "                                                   columns=filtered_beer_list, index=filtered_beer_list)"
   ]
  },
  {
   "cell_type": "code",
   "execution_count": 4,
   "metadata": {},
   "outputs": [],
   "source": [
    "def topwords(word_string, num, stopwords):\n",
    "    \n",
    "    c = Counter(word_string.split())\n",
    "    en_stops = set(stopwords)\n",
    "    edited_list = [word for word in list(c.elements()) if word not in en_stops]\n",
    "    top_words = [words[0] for words in Counter(edited_list).most_common(10)]\n",
    "    top_counts = [words[1] for words in Counter(edited_list).most_common(10)]\n",
    "    \n",
    "    return top_words, top_counts"
   ]
  },
  {
   "cell_type": "code",
   "execution_count": 5,
   "metadata": {},
   "outputs": [],
   "source": [
    "def recommender(recommender_df, selection, rating_lbound, rating_ubound,\n",
    "                masterlist=reviews_plus, itemlist=beerlist):\n",
    "        \n",
    "    filtered_recs = []\n",
    "    num_recs = 1\n",
    "    \n",
    "    while (len(filtered_recs) == 0) and (num_recs < 252):\n",
    "        num_recs += 10\n",
    "        recs = [_ for _ in recommender_df.loc[selection].sort_values()[1:num_recs].index]\n",
    "        try:\n",
    "            filtered_recs = [rec for rec in recs if (masterlist[masterlist['name'] == str(rec)]['rating'].item() > rating_lbound) and \\\n",
    "                             (masterlist[masterlist['name'] == str(rec)]['rating'].item() < rating_ubound)]\n",
    "        except:\n",
    "            continue\n",
    "\n",
    "    if len(filtered_recs) == 0:\n",
    "        recs = [_ for _ in recommender_df.loc[selection].sort_values()[1:21].index]\n",
    "        rec = np.random.choice(recs)\n",
    "        print(\"Your filters are too stringent. Hopefully you like this beer instead:\")\n",
    "    else:\n",
    "        rec = np.random.choice(filtered_recs)\n",
    "    \n",
    "    selection_mask = masterlist['name'] == selection \n",
    "    rec_mask = masterlist['name'] == str(rec)\n",
    "    \n",
    "    print(f'A good beer for someone who likes {selection.title()} is: ')\n",
    "    print(f'{rec.title()} from {masterlist[rec_mask][\"brewery\"].item()}')\n",
    "    print(f'This beer has an aggregate rating of {masterlist[rec_mask][\"rating\"].item()}.')\n",
    "    print(f'This beer has an ABV of {round(masterlist[rec_mask][\"abv\"].item()*100,1)}%.')\n",
    "    print(f'This beer is a {masterlist[rec_mask][\"style\"].item()} beer.')\n",
    "    \n",
    "    plt.figure(figsize=(10,5))\n",
    "    plt.bar(x=topwords(masterlist.loc[selection_mask,'review_text'].item(), 10, stopwords.words('english'))[0], \n",
    "            height=topwords(masterlist.loc[selection_mask,'review_text'].item(), 10, stopwords.words('english'))[1])\n",
    "    plt.title(\"Top words in review corpus for your selected beer\")\n",
    "          \n",
    "    plt.figure(figsize=(10,5))\n",
    "    plt.bar(x=topwords(masterlist.loc[rec_mask,'review_text'].item(), 10, stopwords.words('english'))[0], \n",
    "            height=topwords(masterlist.loc[rec_mask,'review_text'].item(), 10, stopwords.words('english'))[1])\n",
    "    plt.title(\"Top words in review corpus for the recommended beer\")\n",
    "    \n",
    "    display(IFrame(src=f'https://www.google.com/maps/embed/v1/search?key={gmaps_api}&{masterlist[rec_mask][\"google_map_link\"].item()[40:]}',\n",
    "                        height=300,width=1000))"
   ]
  },
  {
   "cell_type": "code",
   "execution_count": 6,
   "metadata": {},
   "outputs": [
    {
     "data": {
      "application/vnd.jupyter.widget-view+json": {
       "model_id": "8661482ae72a46fa98c9aace3b6f6201",
       "version_major": 2,
       "version_minor": 0
      },
      "text/plain": [
       "HTML(value=\"<h3><b>Choose a beer and I'll find you something similar!</b></h3>\")"
      ]
     },
     "metadata": {},
     "output_type": "display_data"
    },
    {
     "data": {
      "application/vnd.jupyter.widget-view+json": {
       "model_id": "6bf5512e0330423fabe03a00cc993231",
       "version_major": 2,
       "version_minor": 0
      },
      "text/plain": [
       "Dropdown(description='Category:', options=('Ale', 'Amber Ale', 'Cider', 'Dark Lager', 'Farmhouse Ale', 'Fruit'…"
      ]
     },
     "metadata": {},
     "output_type": "display_data"
    },
    {
     "data": {
      "application/vnd.jupyter.widget-view+json": {
       "model_id": "da10898e32024e9b9a1f67674cdee1bf",
       "version_major": 2,
       "version_minor": 0
      },
      "text/plain": [
       "SelectMultiple(description='Regions:', index=(0, 1, 2), options=('DC', 'MD', 'VA'), value=('DC', 'MD', 'VA'))"
      ]
     },
     "metadata": {},
     "output_type": "display_data"
    },
    {
     "data": {
      "application/vnd.jupyter.widget-view+json": {
       "model_id": "07507fe4b6304f04b8e13c1629260c3f",
       "version_major": 2,
       "version_minor": 0
      },
      "text/plain": [
       "Dropdown(description='Brewery:', options=('1781 Brewing Company', '2 Witches Winery and Brewing Company', '3 S…"
      ]
     },
     "metadata": {},
     "output_type": "display_data"
    },
    {
     "data": {
      "application/vnd.jupyter.widget-view+json": {
       "model_id": "3c73a98810e94c9aa2dc5cb13bf8625c",
       "version_major": 2,
       "version_minor": 0
      },
      "text/plain": [
       "Dropdown(description='Beer Name:', options=(\"1781 belgiquiose d' or\", '1781 belsnickel', '1781 conifére', '178…"
      ]
     },
     "metadata": {},
     "output_type": "display_data"
    },
    {
     "data": {
      "application/vnd.jupyter.widget-view+json": {
       "model_id": "63bd7eab10204daebe8cb175638b5a21",
       "version_major": 2,
       "version_minor": 0
      },
      "text/plain": [
       "HTML(value='<h4><b>Filters for your recommendations:</b></h4>')"
      ]
     },
     "metadata": {},
     "output_type": "display_data"
    },
    {
     "data": {
      "application/vnd.jupyter.widget-view+json": {
       "model_id": "9f9fed82f56e4ff4a58ac070f1901ae4",
       "version_major": 2,
       "version_minor": 0
      },
      "text/plain": [
       "FloatRangeSlider(value=(0.0, 5.0), continuous_update=False, description='Beer Ratings:', max=5.0, readout_form…"
      ]
     },
     "metadata": {},
     "output_type": "display_data"
    },
    {
     "data": {
      "application/vnd.jupyter.widget-view+json": {
       "model_id": "7fe41d41249240db915685b08b1b7559",
       "version_major": 2,
       "version_minor": 0
      },
      "text/plain": [
       "Button(description='Beer Me!', style=ButtonStyle())"
      ]
     },
     "metadata": {},
     "output_type": "display_data"
    }
   ],
   "source": [
    "# Widget Functionality\n",
    "\n",
    "brewery_list = [_ for _ in reviews_plus['brewery'].unique()]\n",
    "brew_cats = [_ for _ in reviews_plus['category'].sort_values().unique()]\n",
    "\n",
    "category_widget = widgets.Dropdown(\n",
    "    options=brew_cats,\n",
    "    description='Category:',\n",
    "    disabled=False,\n",
    "    width='auto')\n",
    "\n",
    "brewery_widget = widgets.Dropdown(\n",
    "    options=brewery_list,\n",
    "    description='Brewery:',\n",
    "    disabled=False,\n",
    "    continuous_update=True,\n",
    "    width='auto')\n",
    "\n",
    "beerlabel_widget = widgets.Dropdown(\n",
    "    options=beerlist,\n",
    "    description='Beer Name:',\n",
    "    continuous_update=True,\n",
    "    width='auto')\n",
    "\n",
    "state_widget = widgets.SelectMultiple(\n",
    "    options=['DC','MD','VA'],\n",
    "    value=['DC','MD','VA'],\n",
    "    description='Regions:',\n",
    "    disabled=False)\n",
    "\n",
    "rating_widget = widgets.FloatRangeSlider(\n",
    "    value=[0, 5],\n",
    "    min=0,\n",
    "    max=5.0,\n",
    "    step=0.1,\n",
    "    description='Beer Ratings:',\n",
    "    disabled=False,\n",
    "    continuous_update=False,\n",
    "    orientation='horizontal',\n",
    "    readout=True,\n",
    "    readout_format='.1f')\n",
    "\n",
    "# prediction_style_widget = widgets.ToggleButtons(\n",
    "#     options=['Beer Attributes', 'Review Text', 'Collaborative'],\n",
    "#     description='Rec. Type:',\n",
    "#     value = 'Review Text',\n",
    "#     disabled=False,\n",
    "#     button_style='', # 'success', 'info', 'warning', 'danger' or ''\n",
    "#     tooltips=['Taking into style, ABV, number of reviews, etc.', \n",
    "#               'Comparing review text', 'Beers similarly enjoyed by users'])\n",
    "\n",
    "# state_widget2 = widgets.SelectMultiple(\n",
    "#     options=['DC','MD','VA'],\n",
    "#     value=['DC','MD','VA'],\n",
    "#     description='Regions:',\n",
    "#     disabled=False)\n",
    "\n",
    "def update_beerlist(*args):\n",
    "    cat_mask = reviews_plus['category'] == category_widget.value\n",
    "    state_mask = reviews_plus['state'].isin(state_widget.value)\n",
    "    brewery_mask = reviews_plus['brewery'] == brewery_widget.value \n",
    "    brewery_widget.options = [_ for _ in reviews_plus[cat_mask & state_mask]['brewery'].unique()]\n",
    "    beerlabel_widget.options = [_ for _ in reviews_plus[cat_mask & brewery_mask]['name']]\n",
    "\n",
    "instructions = widgets.HTML(value=\"<h3><b>Choose a beer and I'll find you something similar!</b></h3>\")\n",
    "\n",
    "filter_widget = widgets.HTML(value=\"<h4><b>Filters for your recommendations:</b></h4>\")\n",
    "results_widget = widgets.HTML(value=\"<h3><b>Here's your beer recommendation, Cheers!:</b></h3>\")\n",
    "\n",
    "def display_widgets():\n",
    "    display(instructions)\n",
    "    display(category_widget)\n",
    "    category_widget.observe(update_beerlist)\n",
    "    display(state_widget)\n",
    "    state_widget.observe(update_beerlist)\n",
    "    display(brewery_widget)\n",
    "    brewery_widget.observe(update_beerlist)\n",
    "    display(beerlabel_widget)\n",
    "    display(filter_widget)\n",
    "    display(rating_widget)\n",
    "    # display(prediction_style_widget)\n",
    "\n",
    "    beerme_button = widgets.Button(description=\"Beer Me!\")\n",
    "    beerme_button.on_click(on_button_clicked)\n",
    "    display(beerme_button)\n",
    "    \n",
    "def on_button_clicked(self):\n",
    "    clear_output()\n",
    "    display_widgets()\n",
    "    display(results_widget)\n",
    "    recommender(reviewNLP_content_recommender_df, beerlabel_widget.value.lower(), rating_widget.value[0],\n",
    "                rating_widget.value[1])\n",
    "    \n",
    "display_widgets()"
   ]
  },
  {
   "cell_type": "code",
   "execution_count": 7,
   "metadata": {},
   "outputs": [
    {
     "data": {
      "text/html": [
       "<script>\n",
       "code_show=true; \n",
       "function code_toggle() {\n",
       " if (code_show){\n",
       " $('div.input').hide();\n",
       " } else {\n",
       " $('div.input').show();\n",
       " }\n",
       " code_show = !code_show\n",
       "} \n",
       "$( document ).ready(code_toggle);\n",
       "</script>\n",
       "<form action=\"javascript:code_toggle()\">\n",
       "<input type=\"submit\" value=\"Click here to toggle on/off the raw code.\"></form>"
      ],
      "text/plain": [
       "<IPython.core.display.HTML object>"
      ]
     },
     "execution_count": 7,
     "metadata": {},
     "output_type": "execute_result"
    }
   ],
   "source": [
    "HTML('''<script>\n",
    "code_show=true; \n",
    "function code_toggle() {\n",
    " if (code_show){\n",
    " $('div.input').hide();\n",
    " } else {\n",
    " $('div.input').show();\n",
    " }\n",
    " code_show = !code_show\n",
    "} \n",
    "$( document ).ready(code_toggle);\n",
    "</script>\n",
    "<form action=\"javascript:code_toggle()\">\n",
    "<input type=\"submit\" value=\"Click here to toggle on/off the raw code.\"></form>''')"
   ]
  },
  {
   "cell_type": "code",
   "execution_count": null,
   "metadata": {},
   "outputs": [],
   "source": []
  }
 ],
 "metadata": {
  "kernelspec": {
   "display_name": "DSI",
   "language": "python",
   "name": "dsi"
  },
  "language_info": {
   "codemirror_mode": {
    "name": "ipython",
    "version": 3
   },
   "file_extension": ".py",
   "mimetype": "text/x-python",
   "name": "python",
   "nbconvert_exporter": "python",
   "pygments_lexer": "ipython3",
   "version": "3.6.8"
  }
 },
 "nbformat": 4,
 "nbformat_minor": 2
}
